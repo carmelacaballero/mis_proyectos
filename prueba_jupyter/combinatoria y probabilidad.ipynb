{
 "cells": [
  {
   "cell_type": "code",
   "execution_count": 2,
   "metadata": {
    "collapsed": true
   },
   "outputs": [],
   "source": [
    "from sympy.utilities.iterables import variations, combinations, permutations, cartes\n",
    "len(list(variations(range(5),3))), len(list(combinations(range(5),2))), len(list(permutations(range(5))))\n",
    "from fractions import Fraction\n",
    "from sympy import fraction, simplify\n",
    "import math"
   ]
  },
  {
   "cell_type": "code",
   "execution_count": 3,
   "metadata": {
    "collapsed": true
   },
   "outputs": [],
   "source": [
    "from sympy.functions.combinatorial.numbers import nC, nP, nT\n",
    "from sympy import factorial\n"
   ]
  },
  {
   "cell_type": "markdown",
   "metadata": {},
   "source": [
    "### ¿Cuántos números de cuatro cifras distintas se pueden formar con las cifras 1, 2, 3, 4 y 5? ¿Y con 0, 1, 2, 3, 4 y 5?"
   ]
  },
  {
   "cell_type": "code",
   "execution_count": 6,
   "metadata": {},
   "outputs": [
    {
     "data": {
      "text/plain": [
       "(120, 300)"
      ]
     },
     "execution_count": 6,
     "metadata": {},
     "output_type": "execute_result"
    }
   ],
   "source": [
    "\n",
    "len(list(variations(list(range(1, 5 + 1)),4))), len(list(variations(list(range(5 + 1)),4))) - len(list(variations(list(range(1,5 + 1)),3)))"
   ]
  },
  {
   "cell_type": "markdown",
   "metadata": {},
   "source": [
    "### ¿Cuántos números naturales se pueden formar con las cifras 1, 3, 5, 7 y 9 sin repetir ninguna de ellas?"
   ]
  },
  {
   "cell_type": "code",
   "execution_count": 12,
   "metadata": {},
   "outputs": [
    {
     "data": {
      "text/plain": [
       "([5, 20, 60, 120, 120], 325)"
      ]
     },
     "execution_count": 12,
     "metadata": {},
     "output_type": "execute_result"
    }
   ],
   "source": [
    "l = []\n",
    "for i in range(5): l.append((len(list(variations(list(range(1,9+1,2)),i + 1)))))\n",
    "l, sum(l)"
   ]
  },
  {
   "cell_type": "markdown",
   "metadata": {},
   "source": [
    "### ¿De cuántas formas pueden ocupar tres personas tres de las cuatro butacas numeradas de un cine?"
   ]
  },
  {
   "cell_type": "code",
   "execution_count": 14,
   "metadata": {},
   "outputs": [
    {
     "data": {
      "text/plain": [
       "24"
      ]
     },
     "execution_count": 14,
     "metadata": {},
     "output_type": "execute_result"
    }
   ],
   "source": [
    "len(list(variations(list(['a','b','c','d']),3)))"
   ]
  },
  {
   "cell_type": "markdown",
   "metadata": {},
   "source": [
    "### Con las cifras pares 2, 4, 6 y 8 se construyen todos los posibles números de tres cifras sin que se repita ninguna. ¿Cuántos son? ¿Cuántos empiezan por 2? ¿Cuántos terminan en 64? ¿Cuántos hay mayores que 500? ¿Cuánto suman todos ellos?"
   ]
  },
  {
   "cell_type": "code",
   "execution_count": 45,
   "metadata": {},
   "outputs": [
    {
     "data": {
      "text/plain": [
       "(24, 6, 2, 12, 13320)"
      ]
     },
     "execution_count": 45,
     "metadata": {},
     "output_type": "execute_result"
    }
   ],
   "source": [
    "len(list(variations(list(range(2,8+1,2)),3))),len(list(variations(list(range(4,8+1,2)),2))), \\\n",
    "len(list(variations([2,8],2))), int(len(list(variations(list(range(2,8+1,2)),3)))/2), \\\n",
    "len(list(variations(['4','6','8'],2)))*sum(list(range(2,8+1,2)))*(100+10+1)"
   ]
  },
  {
   "cell_type": "markdown",
   "metadata": {},
   "source": [
    "### ¿De cuántas maneras se pueden cubrir los puestos de Director, Vicedirector, Jefe de Estudios, Secretario y Vicesecretario en un Instituto de Bachillerato si hay 40 profesores?"
   ]
  },
  {
   "cell_type": "code",
   "execution_count": 2,
   "metadata": {},
   "outputs": [
    {
     "data": {
      "text/plain": [
       "78960960"
      ]
     },
     "execution_count": 2,
     "metadata": {},
     "output_type": "execute_result"
    }
   ],
   "source": [
    "len(list(variations(range(1,40+1),5)))"
   ]
  },
  {
   "cell_type": "markdown",
   "metadata": {},
   "source": [
    "### Una bandera tiene tres franjas horizontales. Si se pinta cada una de un color (pueden repetirse los colores en la misma bandera), ¿cuántas banderas distintas pueden formarse cuando se dispone de 5 colores?"
   ]
  },
  {
   "cell_type": "code",
   "execution_count": 7,
   "metadata": {},
   "outputs": [
    {
     "data": {
      "text/plain": [
       "125"
      ]
     },
     "execution_count": 7,
     "metadata": {},
     "output_type": "execute_result"
    }
   ],
   "source": [
    "len(list(variations(['a','b','c','d','e'],3,True)))"
   ]
  },
  {
   "cell_type": "markdown",
   "metadata": {},
   "source": [
    "### ¿Cuántos grupos de cinco alumnos podrán formarse con los treinta alumnos de una clase?"
   ]
  },
  {
   "cell_type": "code",
   "execution_count": 21,
   "metadata": {},
   "outputs": [
    {
     "data": {
      "text/plain": [
       "142506"
      ]
     },
     "execution_count": 21,
     "metadata": {},
     "output_type": "execute_result"
    }
   ],
   "source": [
    "len(list(combinations(list(range(1,30+1)),5)))"
   ]
  },
  {
   "cell_type": "markdown",
   "metadata": {},
   "source": [
    "### En una avanzadilla hay 18 soldados. ¿Cuántas guardias diferentes de tres soldados se pueden formar? ¿En cuántas entrará un soldado determinado? ¿Y dos soldados determinados?"
   ]
  },
  {
   "cell_type": "code",
   "execution_count": 24,
   "metadata": {},
   "outputs": [
    {
     "data": {
      "text/plain": [
       "(816, 136, 16)"
      ]
     },
     "execution_count": 24,
     "metadata": {},
     "output_type": "execute_result"
    }
   ],
   "source": [
    "len(list(combinations(list(range(1,18+1)),3))), len(list(combinations(list(range(1,17+1)),2))), len(list(combinations(list(range(1,16+1)),1)))"
   ]
  },
  {
   "cell_type": "markdown",
   "metadata": {},
   "source": [
    "### ¿De cuántas formas podrán distribuirse 8 premios iguales entre doce aspirantes? ¿Y si los premios fueran diferentes?"
   ]
  },
  {
   "cell_type": "code",
   "execution_count": 25,
   "metadata": {},
   "outputs": [
    {
     "data": {
      "text/plain": [
       "(495, 19958400)"
      ]
     },
     "execution_count": 25,
     "metadata": {},
     "output_type": "execute_result"
    }
   ],
   "source": [
    "len(list(combinations(list(range(1,12+1)),8))), len(list(variations(list(range(1,12+1)),8)))"
   ]
  },
  {
   "cell_type": "markdown",
   "metadata": {},
   "source": [
    "### En una empresa hay 6 plazas vacantes, de las cuales 4 corresponden a economistas y 2 a ingenieros. Se han presentado 10 economistas y 5 ingenieros. ¿De cuántas maneras se pueden ocupar las 6 plazas?"
   ]
  },
  {
   "cell_type": "code",
   "execution_count": 27,
   "metadata": {},
   "outputs": [
    {
     "data": {
      "text/plain": [
       "(210, 10, 2100)"
      ]
     },
     "execution_count": 27,
     "metadata": {},
     "output_type": "execute_result"
    }
   ],
   "source": [
    "len(list(combinations(list(range(1,10+1)),4))),len(list(combinations(list(range(1,5+1)),2))), \\\n",
    "len(list(combinations(list(range(1,10+1)),4)))*len(list(combinations(list(range(1,5+1)),2)))"
   ]
  },
  {
   "cell_type": "markdown",
   "metadata": {},
   "source": [
    "### En una urna hay dos bolas blancas, una negra y una roja. Extraemos sucesivamente una bola cada vez y paramos cuando tengamos las dos blancas. ¿Cuáles son los posibles resultados?"
   ]
  },
  {
   "cell_type": "code",
   "execution_count": 44,
   "metadata": {},
   "outputs": [
    {
     "data": {
      "text/plain": [
       "['bb', ('n',), ('r',)]"
      ]
     },
     "execution_count": 44,
     "metadata": {},
     "output_type": "execute_result"
    }
   ],
   "source": [
    "list(['bb'])+list(variations(['n','r'],1))"
   ]
  },
  {
   "cell_type": "markdown",
   "metadata": {},
   "source": [
    "### Se elige al azar un número comprendido entre 10000 y 50000, ambos incluidos. ¿Cuál es la probabilidad de que sea capicúa?"
   ]
  },
  {
   "cell_type": "code",
   "execution_count": 37,
   "metadata": {},
   "outputs": [
    {
     "data": {
      "text/plain": [
       "(400, 40001, Fraction(400, 40001))"
      ]
     },
     "execution_count": 37,
     "metadata": {},
     "output_type": "execute_result"
    }
   ],
   "source": [
    "min = 1\n",
    "max = 5\n",
    "len(list(variations(range(min,max),1)))*len(list(variations([0,1,2,3,4,5,6,7,8,9],2,True))),len(list(range(min*10000,max*10000+1))), \\\n",
    "Fraction(len(list(variations(range(min,max),1)))*len(list(variations([0,1,2,3,4,5,6,7,8,9],2,True))),len(list(range(min*10000,max*10000+1))))\n"
   ]
  },
  {
   "cell_type": "markdown",
   "metadata": {},
   "source": [
    "### Lanzamos tres monedas. Cuál es la probabilidad de que salga:\n",
    "\n",
    "* al menos una cara\n",
    "* solo una cara\n",
    "* ninguna cara \n",
    "* como mucho una cara"
   ]
  },
  {
   "cell_type": "code",
   "execution_count": 79,
   "metadata": {},
   "outputs": [
    {
     "data": {
      "text/plain": [
       "(Fraction(7, 8), Fraction(3, 8), Fraction(1, 8), Fraction(1, 2))"
      ]
     },
     "execution_count": 79,
     "metadata": {},
     "output_type": "execute_result"
    }
   ],
   "source": [
    "Fraction(1 - len(list(variations(['x'],3,True)))/len(list(variations(['c' ,'x'],3,True)))), \\\n",
    "Fraction(len(list([('x', 'c', 'c')])+list([('c', 'x', 'c')])+list([('c', 'c', 'x')])) / len(list(variations(['c' ,'x'],3,True)))), \\\n",
    "Fraction(len(list([('x', 'x', 'x')]))/len(list(variations(['c' ,'x'],3,True)))), \\\n",
    "Fraction(4/len(list(variations(['c' ,'x'],3,True))))\n",
    "\n"
   ]
  },
  {
   "cell_type": "markdown",
   "metadata": {},
   "source": [
    "### De una baraja de 40 cartas se extraen dos. Halla la probabilidad:\n",
    "* de que sean el as de oros y el as de copas\n",
    "* de que sean dos figuras (sota, caballo o rey)\n",
    "* de que al menos una sea de oros\n",
    "* de que sean dos reyes\n",
    "* de que sean del mismo palo\n",
    "* de que sean un rey y un caballo. \n",
    "\n",
    "Resuelve el problema con y sin reemplazamiento."
   ]
  },
  {
   "cell_type": "markdown",
   "metadata": {},
   "source": [
    "SIN"
   ]
  },
  {
   "cell_type": "code",
   "execution_count": 4,
   "metadata": {},
   "outputs": [
    {
     "data": {
      "text/plain": [
       "(1/780,\n",
       " Fraction(11, 130),\n",
       " Fraction(23, 52),\n",
       " Fraction(1, 130),\n",
       " Fraction(3, 13),\n",
       " Fraction(4, 195))"
      ]
     },
     "execution_count": 4,
     "metadata": {},
     "output_type": "execute_result"
    }
   ],
   "source": [
    "len(list(variations(list(cartes(['A','J','Q','K','2','3','4','5','6','7'],'obce')),2,False))), 40*39\n",
    "factorial(2)/(40*39), Fraction(len(list(variations(range(1,3*4+1),2))),(40*39)), \\\n",
    "1 - Fraction((30*29),(40*39)), \\\n",
    "Fraction(len(list(variations(range(1,4+1),2))),(40*39)),\\\n",
    "Fraction(4*10*9,40*39),\\\n",
    "Fraction(4*4*2,40*39)\n"
   ]
  },
  {
   "cell_type": "markdown",
   "metadata": {},
   "source": [
    "CON"
   ]
  },
  {
   "cell_type": "code",
   "execution_count": 176,
   "metadata": {},
   "outputs": [
    {
     "data": {
      "text/plain": [
       "(1/800,\n",
       " Fraction(9, 100),\n",
       " Fraction(7, 16),\n",
       " Fraction(1, 100),\n",
       " Fraction(1, 4),\n",
       " Fraction(1, 50))"
      ]
     },
     "execution_count": 176,
     "metadata": {},
     "output_type": "execute_result"
    }
   ],
   "source": [
    "\n",
    "factorial(2)/(40*40), Fraction(len(list(variations(range(1,3*4+1),2,True))),(40*40)), \\\n",
    "1 - Fraction((30*30),(40*40)), \\\n",
    "Fraction(len(list(variations(range(1,4+1),2,True))),(40*40)),\\\n",
    "Fraction(4*10*10,40*40),\\\n",
    "Fraction(4*4*2,40*40)"
   ]
  },
  {
   "cell_type": "markdown",
   "metadata": {},
   "source": [
    "### Al tirar 8 monedas, ¿cuál es la probabilidad de que salgan 6 caras y 2 cruces?\n",
    "\n",
    "$\\frac{C_8^2}{VR_8^2}=\\frac{8!}{6!\\cdot2!\\cdot2^8}=\\frac{7}{64}$"
   ]
  },
  {
   "cell_type": "code",
   "execution_count": 40,
   "metadata": {},
   "outputs": [
    {
     "data": {
      "text/plain": [
       "(7/64, 7/64)"
      ]
     },
     "execution_count": 40,
     "metadata": {},
     "output_type": "execute_result"
    }
   ],
   "source": [
    "(factorial(8)/(factorial(6)*factorial(2)))/2**8, factorial(8)/(factorial(6)*factorial(2)*2**8)"
   ]
  }
 ],
 "metadata": {
  "kernelspec": {
   "display_name": "Python 3",
   "language": "python",
   "name": "python3"
  },
  "language_info": {
   "codemirror_mode": {
    "name": "ipython",
    "version": 3
   },
   "file_extension": ".py",
   "mimetype": "text/x-python",
   "name": "python",
   "nbconvert_exporter": "python",
   "pygments_lexer": "ipython3",
   "version": "3.6.5"
  }
 },
 "nbformat": 4,
 "nbformat_minor": 2
}
