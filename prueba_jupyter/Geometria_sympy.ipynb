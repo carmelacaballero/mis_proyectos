{
 "cells": [
  {
   "cell_type": "markdown",
   "metadata": {},
   "source": [
    "## Geometría con Sympy y Python"
   ]
  },
  {
   "cell_type": "markdown",
   "metadata": {
    "collapsed": true
   },
   "source": [
    "* Averigua el punto simétrico de $A(5, -1)$ con respecto a $B(4, -2)$."
   ]
  },
  {
   "cell_type": "code",
   "execution_count": 1,
   "metadata": {},
   "outputs": [
    {
     "data": {
      "text/plain": [
       "Point2D(3, -3)"
      ]
     },
     "execution_count": 1,
     "metadata": {},
     "output_type": "execute_result"
    }
   ],
   "source": [
    "from sympy.geometry import Point, Line\n",
    "from sympy import pi, latex, symbols, solve\n",
    "x, y, z, t = symbols('x y z t')\n",
    "p1, p2 = Point(5,-1), Point(4,-2)\n",
    "p3=p1.rotate(pi,p2)\n",
    "p3"
   ]
  },
  {
   "cell_type": "markdown",
   "metadata": {},
   "source": [
    "### Función que aleatoriamente calcula el simétrico de uno dado respecto al otro\n",
    "\n"
   ]
  },
  {
   "cell_type": "code",
   "execution_count": 46,
   "metadata": {},
   "outputs": [
    {
     "name": "stdout",
     "output_type": "stream",
     "text": [
      "(Point2D(4, 1), Point2D(-3, 0))\n",
      "('Point2D(4, 1) Point2D(-3, 0)', Point2D(-10, -1))\n"
     ]
    },
    {
     "data": {
      "text/plain": [
       "('Point2D(4, 1) Point2D(-3, 0)', Point2D(-10, -1))"
      ]
     },
     "execution_count": 46,
     "metadata": {},
     "output_type": "execute_result"
    }
   ],
   "source": [
    "from sympy import *\n",
    "from sympy import latex\n",
    "from random import randint\n",
    "\n",
    "def simetrico(rango=5):\n",
    "    m1, m2, b1, b2 = randint(-1*rango, rango), randint(-1*rango, rango), randint(-1*rango, rango), randint(-1*rango, rango)\n",
    "    A, M = Point(m1, m2), Point(b1, b2)\n",
    "    print(A, M)\n",
    "    B = A.rotate(pi,M)\n",
    "    print (str(A)+\" \"+str(M),B)\n",
    "    return str(A)+\" \"+str(M), B \n",
    "\n",
    "simetrico()"
   ]
  },
  {
   "cell_type": "code",
   "execution_count": 28,
   "metadata": {},
   "outputs": [
    {
     "data": {
      "text/plain": [
       "Point2D(1/2, 0)"
      ]
     },
     "execution_count": 28,
     "metadata": {},
     "output_type": "execute_result"
    }
   ],
   "source": [
    "p1.midpoint(p3)"
   ]
  },
  {
   "cell_type": "code",
   "execution_count": 20,
   "metadata": {},
   "outputs": [
    {
     "data": {
      "text/plain": [
       "Point2D(9/2, -3/2)"
      ]
     },
     "execution_count": 20,
     "metadata": {},
     "output_type": "execute_result"
    }
   ],
   "source": [
    "p1.midpoint(p2)"
   ]
  },
  {
   "cell_type": "markdown",
   "metadata": {
    "collapsed": true
   },
   "source": [
    "* Dados los puntos $A(2, -3)$, $B(-1, 4)$ y $C(x, 3)$, determina el valor de x para que $A$, $B$ y $C$ estén alineados."
   ]
  },
  {
   "cell_type": "code",
   "execution_count": 21,
   "metadata": {},
   "outputs": [
    {
     "data": {
      "text/plain": [
       "[-4/7]"
      ]
     },
     "execution_count": 21,
     "metadata": {},
     "output_type": "execute_result"
    }
   ],
   "source": [
    "p1, p2 = Point(2,-3), Point(-1,4)\n",
    "y3=3\n",
    "l1=Line(p1,p2)\n",
    "l1.direction.y\n",
    "solve((y3-p2.y)/l1.direction.y-(x-p2.x)/l1.direction.x)"
   ]
  },
  {
   "cell_type": "code",
   "execution_count": 22,
   "metadata": {},
   "outputs": [
    {
     "data": {
      "text/plain": [
       "False"
      ]
     },
     "execution_count": 22,
     "metadata": {},
     "output_type": "execute_result"
    }
   ],
   "source": [
    "p3= Point(-4/7,3)\n",
    "p1.is_collinear(p2,p3)"
   ]
  },
  {
   "cell_type": "markdown",
   "metadata": {},
   "source": [
    "* Halla las coordenadas del vértice $D$ del paralelogramo $ABCD$, sabiendo que $A(-1, -2)$, $B(3, 1)$ y $C(1, 3)$."
   ]
  },
  {
   "cell_type": "code",
   "execution_count": 74,
   "metadata": {},
   "outputs": [
    {
     "data": {
      "text/plain": [
       "Point2D(-3, 0)"
      ]
     },
     "execution_count": 74,
     "metadata": {},
     "output_type": "execute_result"
    }
   ],
   "source": [
    "A, B, C, D = Point(-1,-2), Point(3,1), Point(1,3), Point\n",
    "D=C-Line(A,B).direction\n",
    "D"
   ]
  },
  {
   "cell_type": "markdown",
   "metadata": {},
   "source": [
    "* Sea un paralelogramo $ABCD$. Si $A(2,3)$, $B(5,1)$ y $C(4,0)$, halla\n"
   ]
  },
  {
   "cell_type": "code",
   "execution_count": 80,
   "metadata": {},
   "outputs": [
    {
     "data": {
      "text/plain": [
       "2*x + 3*y - 13"
      ]
     },
     "execution_count": 80,
     "metadata": {},
     "output_type": "execute_result"
    }
   ],
   "source": [
    "A, B, C, D = Point(2,3), Point(5,1), Point(4,0), Point\n",
    "D=C-Line(A,B).direction\n",
    "D\n",
    "l1=Line(A,B)\n",
    "l1.equation()"
   ]
  },
  {
   "cell_type": "markdown",
   "metadata": {},
   "source": [
    "* Calcula la distancia que hay entre los puntos  \n",
    "$A(8,10)$ y $B(-2,14)$"
   ]
  },
  {
   "cell_type": "code",
   "execution_count": 26,
   "metadata": {},
   "outputs": [
    {
     "name": "stdout",
     "output_type": "stream",
     "text": [
      "2*sqrt(29)\n"
     ]
    }
   ],
   "source": [
    "from sympy import *\n",
    "\n",
    "A, B = Point(8,10), Point(-2,14)\n",
    "print(A.distance(B))\n"
   ]
  },
  {
   "cell_type": "markdown",
   "metadata": {},
   "source": [
    "* Halla las ecuaciones paramétricas de la recta paralela a $2x - y + 3 = 0 $ y que pasa por el punto $P(4, 3)$."
   ]
  },
  {
   "cell_type": "code",
   "execution_count": 39,
   "metadata": {},
   "outputs": [
    {
     "name": "stdout",
     "output_type": "stream",
     "text": [
      "3*x - 3*y/2 - 15/2\n",
      "Point2D(-3*t/2 + 4, -3*t + 3)\n"
     ]
    },
    {
     "ename": "TypeError",
     "evalue": "object of type 'Add' has no len()",
     "output_type": "error",
     "traceback": [
      "\u001b[0;31m---------------------------------------------------------------------------\u001b[0m",
      "\u001b[0;31mTypeError\u001b[0m                                 Traceback (most recent call last)",
      "\u001b[0;32m<ipython-input-39-eb93ecd9331d>\u001b[0m in \u001b[0;36m<module>\u001b[0;34m()\u001b[0m\n\u001b[1;32m      6\u001b[0m \u001b[0;34m\u001b[0m\u001b[0m\n\u001b[1;32m      7\u001b[0m \u001b[0mget_ipython\u001b[0m\u001b[0;34m(\u001b[0m\u001b[0;34m)\u001b[0m\u001b[0;34m.\u001b[0m\u001b[0mmagic\u001b[0m\u001b[0;34m(\u001b[0m\u001b[0;34m'matplotlib notebook'\u001b[0m\u001b[0;34m)\u001b[0m\u001b[0;34m\u001b[0m\u001b[0m\n\u001b[0;32m----> 8\u001b[0;31m \u001b[0mp\u001b[0m \u001b[0;34m=\u001b[0m \u001b[0mplot_implicit\u001b[0m\u001b[0;34m(\u001b[0m\u001b[0ml2\u001b[0m\u001b[0;34m.\u001b[0m\u001b[0mequation\u001b[0m\u001b[0;34m(\u001b[0m\u001b[0;34m)\u001b[0m\u001b[0;34m,\u001b[0m\u001b[0ml1\u001b[0m\u001b[0;34m.\u001b[0m\u001b[0mequation\u001b[0m\u001b[0;34m(\u001b[0m\u001b[0;34m)\u001b[0m\u001b[0;34m)\u001b[0m\u001b[0;34m\u001b[0m\u001b[0m\n\u001b[0m\u001b[1;32m      9\u001b[0m \u001b[0;34m\u001b[0m\u001b[0m\n\u001b[1;32m     10\u001b[0m \u001b[0mp\u001b[0m\u001b[0;34m.\u001b[0m\u001b[0m_backend\u001b[0m\u001b[0;34m.\u001b[0m\u001b[0max\u001b[0m\u001b[0;34m.\u001b[0m\u001b[0mset_aspect\u001b[0m\u001b[0;34m(\u001b[0m\u001b[0;34m'equal'\u001b[0m\u001b[0;34m)\u001b[0m\u001b[0;34m\u001b[0m\u001b[0m\n",
      "\u001b[0;32m~/Mis_aplicaciones/anaconda3/lib/python3.6/site-packages/sympy/plotting/plot_implicit.py\u001b[0m in \u001b[0;36mplot_implicit\u001b[0;34m(expr, x_var, y_var, **kwargs)\u001b[0m\n\u001b[1;32m    340\u001b[0m     \u001b[0;32mif\u001b[0m \u001b[0mlen\u001b[0m\u001b[0;34m(\u001b[0m\u001b[0mxyvar\u001b[0m\u001b[0;34m)\u001b[0m \u001b[0;34m==\u001b[0m \u001b[0;36m0\u001b[0m\u001b[0;34m:\u001b[0m\u001b[0;34m\u001b[0m\u001b[0m\n\u001b[1;32m    341\u001b[0m         \u001b[0mxyvar\u001b[0m \u001b[0;34m=\u001b[0m \u001b[0mlist\u001b[0m\u001b[0;34m(\u001b[0m\u001b[0m_sort_gens\u001b[0m\u001b[0;34m(\u001b[0m\u001b[0mfree_symbols\u001b[0m\u001b[0;34m)\u001b[0m\u001b[0;34m)\u001b[0m\u001b[0;34m\u001b[0m\u001b[0m\n\u001b[0;32m--> 342\u001b[0;31m     \u001b[0mvar_start_end_x\u001b[0m \u001b[0;34m=\u001b[0m \u001b[0m_range_tuple\u001b[0m\u001b[0;34m(\u001b[0m\u001b[0mxyvar\u001b[0m\u001b[0;34m[\u001b[0m\u001b[0;36m0\u001b[0m\u001b[0;34m]\u001b[0m\u001b[0;34m)\u001b[0m\u001b[0;34m\u001b[0m\u001b[0m\n\u001b[0m\u001b[1;32m    343\u001b[0m     \u001b[0mx\u001b[0m \u001b[0;34m=\u001b[0m \u001b[0mvar_start_end_x\u001b[0m\u001b[0;34m[\u001b[0m\u001b[0;36m0\u001b[0m\u001b[0;34m]\u001b[0m\u001b[0;34m\u001b[0m\u001b[0m\n\u001b[1;32m    344\u001b[0m     \u001b[0;32mif\u001b[0m \u001b[0mlen\u001b[0m\u001b[0;34m(\u001b[0m\u001b[0mxyvar\u001b[0m\u001b[0;34m)\u001b[0m \u001b[0;34m!=\u001b[0m \u001b[0;36m2\u001b[0m\u001b[0;34m:\u001b[0m\u001b[0;34m\u001b[0m\u001b[0m\n",
      "\u001b[0;32m~/Mis_aplicaciones/anaconda3/lib/python3.6/site-packages/sympy/plotting/plot_implicit.py\u001b[0m in \u001b[0;36m_range_tuple\u001b[0;34m(s)\u001b[0m\n\u001b[1;32m    334\u001b[0m         \u001b[0;32mif\u001b[0m \u001b[0misinstance\u001b[0m\u001b[0;34m(\u001b[0m\u001b[0ms\u001b[0m\u001b[0;34m,\u001b[0m \u001b[0mSymbol\u001b[0m\u001b[0;34m)\u001b[0m\u001b[0;34m:\u001b[0m\u001b[0;34m\u001b[0m\u001b[0m\n\u001b[1;32m    335\u001b[0m             \u001b[0;32mreturn\u001b[0m \u001b[0mTuple\u001b[0m\u001b[0;34m(\u001b[0m\u001b[0ms\u001b[0m\u001b[0;34m)\u001b[0m \u001b[0;34m+\u001b[0m \u001b[0mdefault_range\u001b[0m\u001b[0;34m\u001b[0m\u001b[0m\n\u001b[0;32m--> 336\u001b[0;31m         \u001b[0;32mif\u001b[0m \u001b[0mlen\u001b[0m\u001b[0;34m(\u001b[0m\u001b[0ms\u001b[0m\u001b[0;34m)\u001b[0m \u001b[0;34m==\u001b[0m \u001b[0;36m3\u001b[0m\u001b[0;34m:\u001b[0m\u001b[0;34m\u001b[0m\u001b[0m\n\u001b[0m\u001b[1;32m    337\u001b[0m             \u001b[0;32mreturn\u001b[0m \u001b[0mTuple\u001b[0m\u001b[0;34m(\u001b[0m\u001b[0;34m*\u001b[0m\u001b[0ms\u001b[0m\u001b[0;34m)\u001b[0m\u001b[0;34m\u001b[0m\u001b[0m\n\u001b[1;32m    338\u001b[0m         \u001b[0;32mraise\u001b[0m \u001b[0mValueError\u001b[0m\u001b[0;34m(\u001b[0m\u001b[0;34m'symbol or `(symbol, min, max)` expected but got %s'\u001b[0m \u001b[0;34m%\u001b[0m \u001b[0ms\u001b[0m\u001b[0;34m)\u001b[0m\u001b[0;34m\u001b[0m\u001b[0m\n",
      "\u001b[0;31mTypeError\u001b[0m: object of type 'Add' has no len()"
     ]
    }
   ],
   "source": [
    "P = Point(4,3)\n",
    "l1 = Line(Point(0,3),Point(-3/2,0))\n",
    "l2 = Line (P,P+l1.direction)\n",
    "print(l2.equation())\n",
    "print(l2.arbitrary_point())\n",
    "\n",
    "%matplotlib notebook\n",
    "p = plot_implicit(l2.equation(),l1.equation())\n",
    "\n",
    "p._backend.ax.set_aspect('equal')\n",
    "\n"
   ]
  },
  {
   "cell_type": "markdown",
   "metadata": {
    "collapsed": true
   },
   "source": [
    "* Dadas las rectas:  $r \\equiv \\left\\{ \n",
    "    {\\begin{matrix}\n",
    "\t   {x = 2 - 4\\lambda }  \\\\ \n",
    "\t   {y =  - 2 + \\lambda}  \\\\ \n",
    "    \\end{matrix} } \\right.$ \ty \t\n",
    "    $s \\equiv \\left\\{ {\\begin{matrix}\n",
    "   {x = 3 + 8\\lambda }  \\\\ \n",
    "   {y =  - 1 - 2\\lambda }  \\\\ \n",
    "\\end{matrix} } \\right.$  averigua su posición relativa. Si se cortan, di cuál es el punto de corte"
   ]
  },
  {
   "cell_type": "code",
   "execution_count": 5,
   "metadata": {},
   "outputs": [
    {
     "name": "stdout",
     "output_type": "stream",
     "text": [
      "Point2D(-4, 1)\n",
      "Point2D(8, -2)\n",
      "True\n"
     ]
    },
    {
     "data": {
      "text/plain": [
       "[]"
      ]
     },
     "execution_count": 5,
     "metadata": {},
     "output_type": "execute_result"
    }
   ],
   "source": [
    "P1, V1, P2, V2 = Point(2,-2), Point(-4,1), Point(3,-1), Point(8,-2)\n",
    "r = Line(P1, P1+V1)\n",
    "print(r.direction)\n",
    "s = Line(P2, P2+V2)\n",
    "print(s.direction)\n",
    "print(r.is_parallel(s))\n",
    "r.intersection(s)"
   ]
  },
  {
   "cell_type": "markdown",
   "metadata": {
    "collapsed": true
   },
   "source": [
    "* Dados los puntos A(-1, -1), B(1, 4) y C(5, 2), hallar:\n",
    "Si están alineados"
   ]
  },
  {
   "cell_type": "markdown",
   "metadata": {},
   "source": [
    "Si están alineados"
   ]
  },
  {
   "cell_type": "code",
   "execution_count": 3,
   "metadata": {},
   "outputs": [
    {
     "data": {
      "text/plain": [
       "False"
      ]
     },
     "execution_count": 3,
     "metadata": {},
     "output_type": "execute_result"
    }
   ],
   "source": [
    "A, B, C = Point(-1,-1), Point(1,4), Point(5,2)\n",
    "A.is_collinear(B,C)"
   ]
  },
  {
   "cell_type": "markdown",
   "metadata": {},
   "source": [
    "Mediana desde B"
   ]
  },
  {
   "cell_type": "code",
   "execution_count": 13,
   "metadata": {},
   "outputs": [
    {
     "data": {
      "text/plain": [
       "(Point2D(2, 1/2), -7*x/2 - y + 15/2)"
      ]
     },
     "execution_count": 13,
     "metadata": {},
     "output_type": "execute_result"
    }
   ],
   "source": [
    "M1=A.midpoint(C)\n",
    "M=Line(M1,B)\n",
    "M1, M.equation()"
   ]
  },
  {
   "cell_type": "markdown",
   "metadata": {},
   "source": [
    "Altura desde A"
   ]
  },
  {
   "cell_type": "code",
   "execution_count": 14,
   "metadata": {},
   "outputs": [
    {
     "data": {
      "text/plain": [
       "(2*x + 4*y - 18, -4*x + 2*y - 2)"
      ]
     },
     "execution_count": 14,
     "metadata": {},
     "output_type": "execute_result"
    }
   ],
   "source": [
    "l1=Line(B,C)\n",
    "l2=l1.perpendicular_line(A)\n",
    "l1.equation(), l2.equation()\n"
   ]
  },
  {
   "cell_type": "markdown",
   "metadata": {},
   "source": [
    "Mediatriz del lado AB"
   ]
  },
  {
   "cell_type": "code",
   "execution_count": 17,
   "metadata": {},
   "outputs": [
    {
     "data": {
      "text/plain": [
       "(-5*x + 2*y - 3, -2*x - 5*y + 13/2)"
      ]
     },
     "execution_count": 17,
     "metadata": {},
     "output_type": "execute_result"
    }
   ],
   "source": [
    "M1=A.midpoint(C)\n",
    "l1 = Line(A,B)\n",
    "l2 = l1.perpendicular_line(M1)\n",
    "l1.equation(), l2.equation()"
   ]
  },
  {
   "cell_type": "markdown",
   "metadata": {},
   "source": [
    "* Sean $A(1,0)$, $B(4,-3)$ y $C(5,2)$ los tres vértices de un triángulo. Hallar:"
   ]
  },
  {
   "cell_type": "markdown",
   "metadata": {},
   "source": [
    "La ecuación de la recta que pasando por A es paralela a la que pasa por B y C"
   ]
  },
  {
   "cell_type": "code",
   "execution_count": 10,
   "metadata": {},
   "outputs": [
    {
     "data": {
      "text/plain": [
       "(-5*x + y + 23, -5*x + y + 5)"
      ]
     },
     "execution_count": 10,
     "metadata": {},
     "output_type": "execute_result"
    }
   ],
   "source": [
    "A, B, C = Point(1,0), Point(4,-3), Point(5,2)\n",
    "A.is_collinear(B,C)\n",
    "l1 = Line(B,C)\n",
    "l2 = l1.parallel_line(A)\n",
    "l1.equation(), l2.equation()"
   ]
  },
  {
   "cell_type": "markdown",
   "metadata": {},
   "source": [
    "La ecuación de la mediana que pasa por C."
   ]
  },
  {
   "cell_type": "code",
   "execution_count": 11,
   "metadata": {},
   "outputs": [
    {
     "data": {
      "text/plain": [
       "(Point2D(5/2, -3/2), -7*x/2 + 5*y/2 + 25/2)"
      ]
     },
     "execution_count": 11,
     "metadata": {},
     "output_type": "execute_result"
    }
   ],
   "source": [
    "M1=A.midpoint(B)\n",
    "M=Line(M1,C)\n",
    "M1, M.equation()"
   ]
  },
  {
   "cell_type": "code",
   "execution_count": 6,
   "metadata": {},
   "outputs": [
    {
     "data": {
      "image/png": "[encoded data removed]",
      "text/plain": [
       "<matplotlib.figure.Figure at 0x7fae0cd310f0>"
      ]
     },
     "metadata": {},
     "output_type": "display_data"
    }
   ],
   "source": [
    "'''This example is only interesting when ran in interactive mode'''\n",
    "\n",
    "import matplotlib.pyplot as plt\n",
    "import numpy as np\n",
    "\n",
    "# Plot circle or radius 3\n",
    "\n",
    "an = np.linspace(0, 2*np.pi, 100)\n",
    "\n",
    "plt.subplot(221)\n",
    "plt.plot(3*np.cos(an), 3*np.sin(an))\n",
    "plt.title('not equal, looks like ellipse', fontsize=10)\n",
    "\n",
    "plt.subplot(222)\n",
    "plt.plot(3*np.cos(an), 3*np.sin(an))\n",
    "plt.axis('equal')\n",
    "plt.title('equal, looks like circle', fontsize=10)\n",
    "\n",
    "plt.subplot(223)\n",
    "plt.plot(3*np.cos(an), 3*np.sin(an))\n",
    "plt.axis('equal')\n",
    "plt.axis([-3, 3, -3, 3])\n",
    "plt.title('looks like circle, even after changing limits', fontsize=10)\n",
    "\n",
    "plt.subplot(224)\n",
    "plt.plot(3*np.cos(an), 3*np.sin(an))\n",
    "plt.axis('equal')\n",
    "plt.axis([-3, 3, -3, 3])\n",
    "plt.plot([0, 4], [0, 4])\n",
    "plt.title('still equal after adding line', fontsize=10)\n",
    "\n",
    "plt.show()\n"
   ]
  },
  {
   "cell_type": "code",
   "execution_count": 37,
   "metadata": {},
   "outputs": [
    {
     "data": {
      "image/png": "[encoded data removed]",
      "text/plain": [
       "<matplotlib.figure.Figure at 0x7f08290d16d8>"
      ]
     },
     "metadata": {},
     "output_type": "display_data"
    }
   ],
   "source": [
    "import matplotlib.pyplot as plt\n",
    "import numpy as np\n",
    "an = np.linspace(0, 2*np.pi, 100)\n",
    "plt.plot(3*np.cos(an), 3*np.sin(an))\n",
    "plt.axis('equal')\n",
    "plt.title('equal, looks like circle', fontsize=10)\n",
    "plt.show()"
   ]
  },
  {
   "cell_type": "code",
   "execution_count": 2,
   "metadata": {},
   "outputs": [
    {
     "data": {
      "application/javascript": [
       "/* Put everything inside the global mpl namespace */\n",
       "window.mpl = {};\n",
       "\n",
       "\n",
       "mpl.get_websocket_type = function() {\n",
       "    if (typeof(WebSocket) !== 'undefined') {\n",
       "        return WebSocket;\n",
       "    } else if (typeof(MozWebSocket) !== 'undefined') {\n",
       "        return MozWebSocket;\n",
       "    } else {\n",
       "        alert('Your browser does not have WebSocket support.' +\n",
       "              'Please try Chrome, Safari or Firefox ≥ 6. ' +\n",
       "              'Firefox 4 and 5 are also supported but you ' +\n",
       "              'have to enable WebSockets in about:config.');\n",
       "    };\n",
       "}\n",
       "\n",
       "mpl.figure = function(figure_id, websocket, ondownload, parent_element) {\n",
       "    this.id = figure_id;\n",
       "\n",
       "    this.ws = websocket;\n",
       "\n",
       "    this.supports_binary = (this.ws.binaryType != undefined);\n",
       "\n",
       "    if (!this.supports_binary) {\n",
       "        var warnings = document.getElementById(\"mpl-warnings\");\n",
       "        if (warnings) {\n",
       "            warnings.style.display = 'block';\n",
       "            warnings.textContent = (\n",
       "                \"This browser does not support binary websocket messages. \" +\n",
       "                    \"Performance may be slow.\");\n",
       "        }\n",
       "    }\n",
       "\n",
       "    this.imageObj = new Image();\n",
       "\n",
       "    this.context = undefined;\n",
       "    this.message = undefined;\n",
       "    this.canvas = undefined;\n",
       "    this.rubberband_canvas = undefined;\n",
       "    this.rubberband_context = undefined;\n",
       "    this.format_dropdown = undefined;\n",
       "\n",
       "    this.image_mode = 'full';\n",
       "\n",
       "    this.root = $('<div/>');\n",
       "    this._root_extra_style(this.root)\n",
       "    this.root.attr('style', 'display: inline-block');\n",
       "\n",
       "    $(parent_element).append(this.root);\n",
       "\n",
       "    this._init_header(this);\n",
       "    this._init_canvas(this);\n",
       "    this._init_toolbar(this);\n",
       "\n",
       "    var fig = this;\n",
       "\n",
       "    this.waiting = false;\n",
       "\n",
       "    this.ws.onopen =  function () {\n",
       "            fig.send_message(\"supports_binary\", {value: fig.supports_binary});\n",
       "            fig.send_message(\"send_image_mode\", {});\n",
       "            if (mpl.ratio != 1) {\n",
       "                fig.send_message(\"set_dpi_ratio\", {'dpi_ratio': mpl.ratio});\n",
       "            }\n",
       "            fig.send_message(\"refresh\", {});\n",
       "        }\n",
       "\n",
       "    this.imageObj.onload = function() {\n",
       "            if (fig.image_mode == 'full') {\n",
       "                // Full images could contain transparency (where diff images\n",
       "                // almost always do), so we need to clear the canvas so that\n",
       "                // there is no ghosting.\n",
       "                fig.context.clearRect(0, 0, fig.canvas.width, fig.canvas.height);\n",
       "            }\n",
       "            fig.context.drawImage(fig.imageObj, 0, 0);\n",
       "        };\n",
       "\n",
       "    this.imageObj.onunload = function() {\n",
       "        fig.ws.close();\n",
       "    }\n",
       "\n",
       "    this.ws.onmessage = this._make_on_message_function(this);\n",
       "\n",
       "    this.ondownload = ondownload;\n",
       "}\n",
       "\n",
       "mpl.figure.prototype._init_header = function() {\n",
       "    var titlebar = $(\n",
       "        '<div class=\"ui-dialog-titlebar ui-widget-header ui-corner-all ' +\n",
       "        'ui-helper-clearfix\"/>');\n",
       "    var titletext = $(\n",
       "        '<div class=\"ui-dialog-title\" style=\"width: 100%; ' +\n",
       "        'text-align: center; padding: 3px;\"/>');\n",
       "    titlebar.append(titletext)\n",
       "    this.root.append(titlebar);\n",
       "    this.header = titletext[0];\n",
       "}\n",
       "\n",
       "\n",
       "\n",
       "mpl.figure.prototype._canvas_extra_style = function(canvas_div) {\n",
       "\n",
       "}\n",
       "\n",
       "\n",
       "mpl.figure.prototype._root_extra_style = function(canvas_div) {\n",
       "\n",
       "}\n",
       "\n",
       "mpl.figure.prototype._init_canvas = function() {\n",
       "    var fig = this;\n",
       "\n",
       "    var canvas_div = $('<div/>');\n",
       "\n",
       "    canvas_div.attr('style', 'position: relative; clear: both; outline: 0');\n",
       "\n",
       "    function canvas_keyboard_event(event) {\n",
       "        return fig.key_event(event, event['data']);\n",
       "    }\n",
       "\n",
       "    canvas_div.keydown('key_press', canvas_keyboard_event);\n",
       "    canvas_div.keyup('key_release', canvas_keyboard_event);\n",
       "    this.canvas_div = canvas_div\n",
       "    this._canvas_extra_style(canvas_div)\n",
       "    this.root.append(canvas_div);\n",
       "\n",
       "    var canvas = $('<canvas/>');\n",
       "    canvas.addClass('mpl-canvas');\n",
       "    canvas.attr('style', \"left: 0; top: 0; z-index: 0; outline: 0\")\n",
       "\n",
       "    this.canvas = canvas[0];\n",
       "    this.context = canvas[0].getContext(\"2d\");\n",
       "\n",
       "    var backingStore = this.context.backingStorePixelRatio ||\n",
       "\tthis.context.webkitBackingStorePixelRatio ||\n",
       "\tthis.context.mozBackingStorePixelRatio ||\n",
       "\tthis.context.msBackingStorePixelRatio ||\n",
       "\tthis.context.oBackingStorePixelRatio ||\n",
       "\tthis.context.backingStorePixelRatio || 1;\n",
       "\n",
       "    mpl.ratio = (window.devicePixelRatio || 1) / backingStore;\n",
       "\n",
       "    var rubberband = $('<canvas/>');\n",
       "    rubberband.attr('style', \"position: absolute; left: 0; top: 0; z-index: 1;\")\n",
       "\n",
       "    var pass_mouse_events = true;\n",
       "\n",
       "    canvas_div.resizable({\n",
       "        start: function(event, ui) {\n",
       "            pass_mouse_events = false;\n",
       "        },\n",
       "        resize: function(event, ui) {\n",
       "            fig.request_resize(ui.size.width, ui.size.height);\n",
       "        },\n",
       "        stop: function(event, ui) {\n",
       "            pass_mouse_events = true;\n",
       "            fig.request_resize(ui.size.width, ui.size.height);\n",
       "        },\n",
       "    });\n",
       "\n",
       "    function mouse_event_fn(event) {\n",
       "        if (pass_mouse_events)\n",
       "            return fig.mouse_event(event, event['data']);\n",
       "    }\n",
       "\n",
       "    rubberband.mousedown('button_press', mouse_event_fn);\n",
       "    rubberband.mouseup('button_release', mouse_event_fn);\n",
       "    // Throttle sequential mouse events to 1 every 20ms.\n",
       "    rubberband.mousemove('motion_notify', mouse_event_fn);\n",
       "\n",
       "    rubberband.mouseenter('figure_enter', mouse_event_fn);\n",
       "    rubberband.mouseleave('figure_leave', mouse_event_fn);\n",
       "\n",
       "    canvas_div.on(\"wheel\", function (event) {\n",
       "        event = event.originalEvent;\n",
       "        event['data'] = 'scroll'\n",
       "        if (event.deltaY < 0) {\n",
       "            event.step = 1;\n",
       "        } else {\n",
       "            event.step = -1;\n",
       "        }\n",
       "        mouse_event_fn(event);\n",
       "    });\n",
       "\n",
       "    canvas_div.append(canvas);\n",
       "    canvas_div.append(rubberband);\n",
       "\n",
       "    this.rubberband = rubberband;\n",
       "    this.rubberband_canvas = rubberband[0];\n",
       "    this.rubberband_context = rubberband[0].getContext(\"2d\");\n",
       "    this.rubberband_context.strokeStyle = \"#000000\";\n",
       "\n",
       "    this._resize_canvas = function(width, height) {\n",
       "        // Keep the size of the canvas, canvas container, and rubber band\n",
       "        // canvas in synch.\n",
       "        canvas_div.css('width', width)\n",
       "        canvas_div.css('height', height)\n",
       "\n",
       "        canvas.attr('width', width * mpl.ratio);\n",
       "        canvas.attr('height', height * mpl.ratio);\n",
       "        canvas.attr('style', 'width: ' + width + 'px; height: ' + height + 'px;');\n",
       "\n",
       "        rubberband.attr('width', width);\n",
       "        rubberband.attr('height', height);\n",
       "    }\n",
       "\n",
       "    // Set the figure to an initial 600x600px, this will subsequently be updated\n",
       "    // upon first draw.\n",
       "    this._resize_canvas(600, 600);\n",
       "\n",
       "    // Disable right mouse context menu.\n",
       "    $(this.rubberband_canvas).bind(\"contextmenu\",function(e){\n",
       "        return false;\n",
       "    });\n",
       "\n",
       "    function set_focus () {\n",
       "        canvas.focus();\n",
       "        canvas_div.focus();\n",
       "    }\n",
       "\n",
       "    window.setTimeout(set_focus, 100);\n",
       "}\n",
       "\n",
       "mpl.figure.prototype._init_toolbar = function() {\n",
       "    var fig = this;\n",
       "\n",
       "    var nav_element = $('<div/>')\n",
       "    nav_element.attr('style', 'width: 100%');\n",
       "    this.root.append(nav_element);\n",
       "\n",
       "    // Define a callback function for later on.\n",
       "    function toolbar_event(event) {\n",
       "        return fig.toolbar_button_onclick(event['data']);\n",
       "    }\n",
       "    function toolbar_mouse_event(event) {\n",
       "        return fig.toolbar_button_onmouseover(event['data']);\n",
       "    }\n",
       "\n",
       "    for(var toolbar_ind in mpl.toolbar_items) {\n",
       "        var name = mpl.toolbar_items[toolbar_ind][0];\n",
       "        var tooltip = mpl.toolbar_items[toolbar_ind][1];\n",
       "        var image = mpl.toolbar_items[toolbar_ind][2];\n",
       "        var method_name = mpl.toolbar_items[toolbar_ind][3];\n",
       "\n",
       "        if (!name) {\n",
       "            // put a spacer in here.\n",
       "            continue;\n",
       "        }\n",
       "        var button = $('<button/>');\n",
       "        button.addClass('ui-button ui-widget ui-state-default ui-corner-all ' +\n",
       "                        'ui-button-icon-only');\n",
       "        button.attr('role', 'button');\n",
       "        button.attr('aria-disabled', 'false');\n",
       "        button.click(method_name, toolbar_event);\n",
       "        button.mouseover(tooltip, toolbar_mouse_event);\n",
       "\n",
       "        var icon_img = $('<span/>');\n",
       "        icon_img.addClass('ui-button-icon-primary ui-icon');\n",
       "        icon_img.addClass(image);\n",
       "        icon_img.addClass('ui-corner-all');\n",
       "\n",
       "        var tooltip_span = $('<span/>');\n",
       "        tooltip_span.addClass('ui-button-text');\n",
       "        tooltip_span.html(tooltip);\n",
       "\n",
       "        button.append(icon_img);\n",
       "        button.append(tooltip_span);\n",
       "\n",
       "        nav_element.append(button);\n",
       "    }\n",
       "\n",
       "    var fmt_picker_span = $('<span/>');\n",
       "\n",
       "    var fmt_picker = $('<select/>');\n",
       "    fmt_picker.addClass('mpl-toolbar-option ui-widget ui-widget-content');\n",
       "    fmt_picker_span.append(fmt_picker);\n",
       "    nav_element.append(fmt_picker_span);\n",
       "    this.format_dropdown = fmt_picker[0];\n",
       "\n",
       "    for (var ind in mpl.extensions) {\n",
       "        var fmt = mpl.extensions[ind];\n",
       "        var option = $(\n",
       "            '<option/>', {selected: fmt === mpl.default_extension}).html(fmt);\n",
       "        fmt_picker.append(option)\n",
       "    }\n",
       "\n",
       "    // Add hover states to the ui-buttons\n",
       "    $( \".ui-button\" ).hover(\n",
       "        function() { $(this).addClass(\"ui-state-hover\");},\n",
       "        function() { $(this).removeClass(\"ui-state-hover\");}\n",
       "    );\n",
       "\n",
       "    var status_bar = $('<span class=\"mpl-message\"/>');\n",
       "    nav_element.append(status_bar);\n",
       "    this.message = status_bar[0];\n",
       "}\n",
       "\n",
       "mpl.figure.prototype.request_resize = function(x_pixels, y_pixels) {\n",
       "    // Request matplotlib to resize the figure. Matplotlib will then trigger a resize in the client,\n",
       "    // which will in turn request a refresh of the image.\n",
       "    this.send_message('resize', {'width': x_pixels, 'height': y_pixels});\n",
       "}\n",
       "\n",
       "mpl.figure.prototype.send_message = function(type, properties) {\n",
       "    properties['type'] = type;\n",
       "    properties['figure_id'] = this.id;\n",
       "    this.ws.send(JSON.stringify(properties));\n",
       "}\n",
       "\n",
       "mpl.figure.prototype.send_draw_message = function() {\n",
       "    if (!this.waiting) {\n",
       "        this.waiting = true;\n",
       "        this.ws.send(JSON.stringify({type: \"draw\", figure_id: this.id}));\n",
       "    }\n",
       "}\n",
       "\n",
       "\n",
       "mpl.figure.prototype.handle_save = function(fig, msg) {\n",
       "    var format_dropdown = fig.format_dropdown;\n",
       "    var format = format_dropdown.options[format_dropdown.selectedIndex].value;\n",
       "    fig.ondownload(fig, format);\n",
       "}\n",
       "\n",
       "\n",
       "mpl.figure.prototype.handle_resize = function(fig, msg) {\n",
       "    var size = msg['size'];\n",
       "    if (size[0] != fig.canvas.width || size[1] != fig.canvas.height) {\n",
       "        fig._resize_canvas(size[0], size[1]);\n",
       "        fig.send_message(\"refresh\", {});\n",
       "    };\n",
       "}\n",
       "\n",
       "mpl.figure.prototype.handle_rubberband = function(fig, msg) {\n",
       "    var x0 = msg['x0'] / mpl.ratio;\n",
       "    var y0 = (fig.canvas.height - msg['y0']) / mpl.ratio;\n",
       "    var x1 = msg['x1'] / mpl.ratio;\n",
       "    var y1 = (fig.canvas.height - msg['y1']) / mpl.ratio;\n",
       "    x0 = Math.floor(x0) + 0.5;\n",
       "    y0 = Math.floor(y0) + 0.5;\n",
       "    x1 = Math.floor(x1) + 0.5;\n",
       "    y1 = Math.floor(y1) + 0.5;\n",
       "    var min_x = Math.min(x0, x1);\n",
       "    var min_y = Math.min(y0, y1);\n",
       "    var width = Math.abs(x1 - x0);\n",
       "    var height = Math.abs(y1 - y0);\n",
       "\n",
       "    fig.rubberband_context.clearRect(\n",
       "        0, 0, fig.canvas.width, fig.canvas.height);\n",
       "\n",
       "    fig.rubberband_context.strokeRect(min_x, min_y, width, height);\n",
       "}\n",
       "\n",
       "mpl.figure.prototype.handle_figure_label = function(fig, msg) {\n",
       "    // Updates the figure title.\n",
       "    fig.header.textContent = msg['label'];\n",
       "}\n",
       "\n",
       "mpl.figure.prototype.handle_cursor = function(fig, msg) {\n",
       "    var cursor = msg['cursor'];\n",
       "    switch(cursor)\n",
       "    {\n",
       "    case 0:\n",
       "        cursor = 'pointer';\n",
       "        break;\n",
       "    case 1:\n",
       "        cursor = 'default';\n",
       "        break;\n",
       "    case 2:\n",
       "        cursor = 'crosshair';\n",
       "        break;\n",
       "    case 3:\n",
       "        cursor = 'move';\n",
       "        break;\n",
       "    }\n",
       "    fig.rubberband_canvas.style.cursor = cursor;\n",
       "}\n",
       "\n",
       "mpl.figure.prototype.handle_message = function(fig, msg) {\n",
       "    fig.message.textContent = msg['message'];\n",
       "}\n",
       "\n",
       "mpl.figure.prototype.handle_draw = function(fig, msg) {\n",
       "    // Request the server to send over a new figure.\n",
       "    fig.send_draw_message();\n",
       "}\n",
       "\n",
       "mpl.figure.prototype.handle_image_mode = function(fig, msg) {\n",
       "    fig.image_mode = msg['mode'];\n",
       "}\n",
       "\n",
       "mpl.figure.prototype.updated_canvas_event = function() {\n",
       "    // Called whenever the canvas gets updated.\n",
       "    this.send_message(\"ack\", {});\n",
       "}\n",
       "\n",
       "// A function to construct a web socket function for onmessage handling.\n",
       "// Called in the figure constructor.\n",
       "mpl.figure.prototype._make_on_message_function = function(fig) {\n",
       "    return function socket_on_message(evt) {\n",
       "        if (evt.data instanceof Blob) {\n",
       "            /* FIXME: We get \"Resource interpreted as Image but\n",
       "             * transferred with MIME type text/plain:\" errors on\n",
       "             * Chrome.  But how to set the MIME type?  It doesn't seem\n",
       "             * to be part of the websocket stream */\n",
       "            evt.data.type = \"image/png\";\n",
       "\n",
       "            /* Free the memory for the previous frames */\n",
       "            if (fig.imageObj.src) {\n",
       "                (window.URL || window.webkitURL).revokeObjectURL(\n",
       "                    fig.imageObj.src);\n",
       "            }\n",
       "\n",
       "            fig.imageObj.src = (window.URL || window.webkitURL).createObjectURL(\n",
       "                evt.data);\n",
       "            fig.updated_canvas_event();\n",
       "            fig.waiting = false;\n",
       "            return;\n",
       "        }\n",
       "        else if (typeof evt.data === 'string' && evt.data.slice(0, 21) == \"data:image/png;base64\") {\n",
       "            fig.imageObj.src = evt.data;\n",
       "            fig.updated_canvas_event();\n",
       "            fig.waiting = false;\n",
       "            return;\n",
       "        }\n",
       "\n",
       "        var msg = JSON.parse(evt.data);\n",
       "        var msg_type = msg['type'];\n",
       "\n",
       "        // Call the  \"handle_{type}\" callback, which takes\n",
       "        // the figure and JSON message as its only arguments.\n",
       "        try {\n",
       "            var callback = fig[\"handle_\" + msg_type];\n",
       "        } catch (e) {\n",
       "            console.log(\"No handler for the '\" + msg_type + \"' message type: \", msg);\n",
       "            return;\n",
       "        }\n",
       "\n",
       "        if (callback) {\n",
       "            try {\n",
       "                // console.log(\"Handling '\" + msg_type + \"' message: \", msg);\n",
       "                callback(fig, msg);\n",
       "            } catch (e) {\n",
       "                console.log(\"Exception inside the 'handler_\" + msg_type + \"' callback:\", e, e.stack, msg);\n",
       "            }\n",
       "        }\n",
       "    };\n",
       "}\n",
       "\n",
       "// from http://stackoverflow.com/questions/1114465/getting-mouse-location-in-canvas\n",
       "mpl.findpos = function(e) {\n",
       "    //this section is from http://www.quirksmode.org/js/events_properties.html\n",
       "    var targ;\n",
       "    if (!e)\n",
       "        e = window.event;\n",
       "    if (e.target)\n",
       "        targ = e.target;\n",
       "    else if (e.srcElement)\n",
       "        targ = e.srcElement;\n",
       "    if (targ.nodeType == 3) // defeat Safari bug\n",
       "        targ = targ.parentNode;\n",
       "\n",
       "    // jQuery normalizes the pageX and pageY\n",
       "    // pageX,Y are the mouse positions relative to the document\n",
       "    // offset() returns the position of the element relative to the document\n",
       "    var x = e.pageX - $(targ).offset().left;\n",
       "    var y = e.pageY - $(targ).offset().top;\n",
       "\n",
       "    return {\"x\": x, \"y\": y};\n",
       "};\n",
       "\n",
       "/*\n",
       " * return a copy of an object with only non-object keys\n",
       " * we need this to avoid circular references\n",
       " * http://stackoverflow.com/a/24161582/3208463\n",
       " */\n",
       "function simpleKeys (original) {\n",
       "  return Object.keys(original).reduce(function (obj, key) {\n",
       "    if (typeof original[key] !== 'object')\n",
       "        obj[key] = original[key]\n",
       "    return obj;\n",
       "  }, {});\n",
       "}\n",
       "\n",
       "mpl.figure.prototype.mouse_event = function(event, name) {\n",
       "    var canvas_pos = mpl.findpos(event)\n",
       "\n",
       "    if (name === 'button_press')\n",
       "    {\n",
       "        this.canvas.focus();\n",
       "        this.canvas_div.focus();\n",
       "    }\n",
       "\n",
       "    var x = canvas_pos.x * mpl.ratio;\n",
       "    var y = canvas_pos.y * mpl.ratio;\n",
       "\n",
       "    this.send_message(name, {x: x, y: y, button: event.button,\n",
       "                             step: event.step,\n",
       "                             guiEvent: simpleKeys(event)});\n",
       "\n",
       "    /* This prevents the web browser from automatically changing to\n",
       "     * the text insertion cursor when the button is pressed.  We want\n",
       "     * to control all of the cursor setting manually through the\n",
       "     * 'cursor' event from matplotlib */\n",
       "    event.preventDefault();\n",
       "    return false;\n",
       "}\n",
       "\n",
       "mpl.figure.prototype._key_event_extra = function(event, name) {\n",
       "    // Handle any extra behaviour associated with a key event\n",
       "}\n",
       "\n",
       "mpl.figure.prototype.key_event = function(event, name) {\n",
       "\n",
       "    // Prevent repeat events\n",
       "    if (name == 'key_press')\n",
       "    {\n",
       "        if (event.which === this._key)\n",
       "            return;\n",
       "        else\n",
       "            this._key = event.which;\n",
       "    }\n",
       "    if (name == 'key_release')\n",
       "        this._key = null;\n",
       "\n",
       "    var value = '';\n",
       "    if (event.ctrlKey && event.which != 17)\n",
       "        value += \"ctrl+\";\n",
       "    if (event.altKey && event.which != 18)\n",
       "        value += \"alt+\";\n",
       "    if (event.shiftKey && event.which != 16)\n",
       "        value += \"shift+\";\n",
       "\n",
       "    value += 'k';\n",
       "    value += event.which.toString();\n",
       "\n",
       "    this._key_event_extra(event, name);\n",
       "\n",
       "    this.send_message(name, {key: value,\n",
       "                             guiEvent: simpleKeys(event)});\n",
       "    return false;\n",
       "}\n",
       "\n",
       "mpl.figure.prototype.toolbar_button_onclick = function(name) {\n",
       "    if (name == 'download') {\n",
       "        this.handle_save(this, null);\n",
       "    } else {\n",
       "        this.send_message(\"toolbar_button\", {name: name});\n",
       "    }\n",
       "};\n",
       "\n",
       "mpl.figure.prototype.toolbar_button_onmouseover = function(tooltip) {\n",
       "    this.message.textContent = tooltip;\n",
       "};\n",
       "mpl.toolbar_items = [[\"Home\", \"Reset original view\", \"fa fa-home icon-home\", \"home\"], [\"Back\", \"Back to  previous view\", \"fa fa-arrow-left icon-arrow-left\", \"back\"], [\"Forward\", \"Forward to next view\", \"fa fa-arrow-right icon-arrow-right\", \"forward\"], [\"\", \"\", \"\", \"\"], [\"Pan\", \"Pan axes with left mouse, zoom with right\", \"fa fa-arrows icon-move\", \"pan\"], [\"Zoom\", \"Zoom to rectangle\", \"fa fa-square-o icon-check-empty\", \"zoom\"], [\"\", \"\", \"\", \"\"], [\"Download\", \"Download plot\", \"fa fa-floppy-o icon-save\", \"download\"]];\n",
       "\n",
       "mpl.extensions = [\"eps\", \"jpeg\", \"pdf\", \"png\", \"ps\", \"raw\", \"svg\", \"tif\"];\n",
       "\n",
       "mpl.default_extension = \"png\";var comm_websocket_adapter = function(comm) {\n",
       "    // Create a \"websocket\"-like object which calls the given IPython comm\n",
       "    // object with the appropriate methods. Currently this is a non binary\n",
       "    // socket, so there is still some room for performance tuning.\n",
       "    var ws = {};\n",
       "\n",
       "    ws.close = function() {\n",
       "        comm.close()\n",
       "    };\n",
       "    ws.send = function(m) {\n",
       "        //console.log('sending', m);\n",
       "        comm.send(m);\n",
       "    };\n",
       "    // Register the callback with on_msg.\n",
       "    comm.on_msg(function(msg) {\n",
       "        //console.log('receiving', msg['content']['data'], msg);\n",
       "        // Pass the mpl event to the overriden (by mpl) onmessage function.\n",
       "        ws.onmessage(msg['content']['data'])\n",
       "    });\n",
       "    return ws;\n",
       "}\n",
       "\n",
       "mpl.mpl_figure_comm = function(comm, msg) {\n",
       "    // This is the function which gets called when the mpl process\n",
       "    // starts-up an IPython Comm through the \"matplotlib\" channel.\n",
       "\n",
       "    var id = msg.content.data.id;\n",
       "    // Get hold of the div created by the display call when the Comm\n",
       "    // socket was opened in Python.\n",
       "    var element = $(\"#\" + id);\n",
       "    var ws_proxy = comm_websocket_adapter(comm)\n",
       "\n",
       "    function ondownload(figure, format) {\n",
       "        window.open(figure.imageObj.src);\n",
       "    }\n",
       "\n",
       "    var fig = new mpl.figure(id, ws_proxy,\n",
       "                           ondownload,\n",
       "                           element.get(0));\n",
       "\n",
       "    // Call onopen now - mpl needs it, as it is assuming we've passed it a real\n",
       "    // web socket which is closed, not our websocket->open comm proxy.\n",
       "    ws_proxy.onopen();\n",
       "\n",
       "    fig.parent_element = element.get(0);\n",
       "    fig.cell_info = mpl.find_output_cell(\"<div id='\" + id + \"'></div>\");\n",
       "    if (!fig.cell_info) {\n",
       "        console.error(\"Failed to find cell for figure\", id, fig);\n",
       "        return;\n",
       "    }\n",
       "\n",
       "    var output_index = fig.cell_info[2]\n",
       "    var cell = fig.cell_info[0];\n",
       "\n",
       "};\n",
       "\n",
       "mpl.figure.prototype.handle_close = function(fig, msg) {\n",
       "    var width = fig.canvas.width/mpl.ratio\n",
       "    fig.root.unbind('remove')\n",
       "\n",
       "    // Update the output cell to use the data from the current canvas.\n",
       "    fig.push_to_output();\n",
       "    var dataURL = fig.canvas.toDataURL();\n",
       "    // Re-enable the keyboard manager in IPython - without this line, in FF,\n",
       "    // the notebook keyboard shortcuts fail.\n",
       "    IPython.keyboard_manager.enable()\n",
       "    $(fig.parent_element).html('<img src=\"' + dataURL + '\" width=\"' + width + '\">');\n",
       "    fig.close_ws(fig, msg);\n",
       "}\n",
       "\n",
       "mpl.figure.prototype.close_ws = function(fig, msg){\n",
       "    fig.send_message('closing', msg);\n",
       "    // fig.ws.close()\n",
       "}\n",
       "\n",
       "mpl.figure.prototype.push_to_output = function(remove_interactive) {\n",
       "    // Turn the data on the canvas into data in the output cell.\n",
       "    var width = this.canvas.width/mpl.ratio\n",
       "    var dataURL = this.canvas.toDataURL();\n",
       "    this.cell_info[1]['text/html'] = '<img src=\"' + dataURL + '\" width=\"' + width + '\">';\n",
       "}\n",
       "\n",
       "mpl.figure.prototype.updated_canvas_event = function() {\n",
       "    // Tell IPython that the notebook contents must change.\n",
       "    IPython.notebook.set_dirty(true);\n",
       "    this.send_message(\"ack\", {});\n",
       "    var fig = this;\n",
       "    // Wait a second, then push the new image to the DOM so\n",
       "    // that it is saved nicely (might be nice to debounce this).\n",
       "    setTimeout(function () { fig.push_to_output() }, 1000);\n",
       "}\n",
       "\n",
       "mpl.figure.prototype._init_toolbar = function() {\n",
       "    var fig = this;\n",
       "\n",
       "    var nav_element = $('<div/>')\n",
       "    nav_element.attr('style', 'width: 100%');\n",
       "    this.root.append(nav_element);\n",
       "\n",
       "    // Define a callback function for later on.\n",
       "    function toolbar_event(event) {\n",
       "        return fig.toolbar_button_onclick(event['data']);\n",
       "    }\n",
       "    function toolbar_mouse_event(event) {\n",
       "        return fig.toolbar_button_onmouseover(event['data']);\n",
       "    }\n",
       "\n",
       "    for(var toolbar_ind in mpl.toolbar_items){\n",
       "        var name = mpl.toolbar_items[toolbar_ind][0];\n",
       "        var tooltip = mpl.toolbar_items[toolbar_ind][1];\n",
       "        var image = mpl.toolbar_items[toolbar_ind][2];\n",
       "        var method_name = mpl.toolbar_items[toolbar_ind][3];\n",
       "\n",
       "        if (!name) { continue; };\n",
       "\n",
       "        var button = $('<button class=\"btn btn-default\" href=\"#\" title=\"' + name + '\"><i class=\"fa ' + image + ' fa-lg\"></i></button>');\n",
       "        button.click(method_name, toolbar_event);\n",
       "        button.mouseover(tooltip, toolbar_mouse_event);\n",
       "        nav_element.append(button);\n",
       "    }\n",
       "\n",
       "    // Add the status bar.\n",
       "    var status_bar = $('<span class=\"mpl-message\" style=\"text-align:right; float: right;\"/>');\n",
       "    nav_element.append(status_bar);\n",
       "    this.message = status_bar[0];\n",
       "\n",
       "    // Add the close button to the window.\n",
       "    var buttongrp = $('<div class=\"btn-group inline pull-right\"></div>');\n",
       "    var button = $('<button class=\"btn btn-mini btn-primary\" href=\"#\" title=\"Stop Interaction\"><i class=\"fa fa-power-off icon-remove icon-large\"></i></button>');\n",
       "    button.click(function (evt) { fig.handle_close(fig, {}); } );\n",
       "    button.mouseover('Stop Interaction', toolbar_mouse_event);\n",
       "    buttongrp.append(button);\n",
       "    var titlebar = this.root.find($('.ui-dialog-titlebar'));\n",
       "    titlebar.prepend(buttongrp);\n",
       "}\n",
       "\n",
       "mpl.figure.prototype._root_extra_style = function(el){\n",
       "    var fig = this\n",
       "    el.on(\"remove\", function(){\n",
       "\tfig.close_ws(fig, {});\n",
       "    });\n",
       "}\n",
       "\n",
       "mpl.figure.prototype._canvas_extra_style = function(el){\n",
       "    // this is important to make the div 'focusable\n",
       "    el.attr('tabindex', 0)\n",
       "    // reach out to IPython and tell the keyboard manager to turn it's self\n",
       "    // off when our div gets focus\n",
       "\n",
       "    // location in version 3\n",
       "    if (IPython.notebook.keyboard_manager) {\n",
       "        IPython.notebook.keyboard_manager.register_events(el);\n",
       "    }\n",
       "    else {\n",
       "        // location in version 2\n",
       "        IPython.keyboard_manager.register_events(el);\n",
       "    }\n",
       "\n",
       "}\n",
       "\n",
       "mpl.figure.prototype._key_event_extra = function(event, name) {\n",
       "    var manager = IPython.notebook.keyboard_manager;\n",
       "    if (!manager)\n",
       "        manager = IPython.keyboard_manager;\n",
       "\n",
       "    // Check for shift+enter\n",
       "    if (event.shiftKey && event.which == 13) {\n",
       "        this.canvas_div.blur();\n",
       "        event.shiftKey = false;\n",
       "        // Send a \"J\" for go to next cell\n",
       "        event.which = 74;\n",
       "        event.keyCode = 74;\n",
       "        manager.command_mode();\n",
       "        manager.handle_keydown(event);\n",
       "    }\n",
       "}\n",
       "\n",
       "mpl.figure.prototype.handle_save = function(fig, msg) {\n",
       "    fig.ondownload(fig, null);\n",
       "}\n",
       "\n",
       "\n",
       "mpl.find_output_cell = function(html_output) {\n",
       "    // Return the cell and output element which can be found *uniquely* in the notebook.\n",
       "    // Note - this is a bit hacky, but it is done because the \"notebook_saving.Notebook\"\n",
       "    // IPython event is triggered only after the cells have been serialised, which for\n",
       "    // our purposes (turning an active figure into a static one), is too late.\n",
       "    var cells = IPython.notebook.get_cells();\n",
       "    var ncells = cells.length;\n",
       "    for (var i=0; i<ncells; i++) {\n",
       "        var cell = cells[i];\n",
       "        if (cell.cell_type === 'code'){\n",
       "            for (var j=0; j<cell.output_area.outputs.length; j++) {\n",
       "                var data = cell.output_area.outputs[j];\n",
       "                if (data.data) {\n",
       "                    // IPython >= 3 moved mimebundle to data attribute of output\n",
       "                    data = data.data;\n",
       "                }\n",
       "                if (data['text/html'] == html_output) {\n",
       "                    return [cell, data, j];\n",
       "                }\n",
       "            }\n",
       "        }\n",
       "    }\n",
       "}\n",
       "\n",
       "// Register the function which deals with the matplotlib target/channel.\n",
       "// The kernel may be null if the page has been refreshed.\n",
       "if (IPython.notebook.kernel != null) {\n",
       "    IPython.notebook.kernel.comm_manager.register_target('matplotlib', mpl.mpl_figure_comm);\n",
       "}\n"
      ],
      "text/plain": [
       "<IPython.core.display.Javascript object>"
      ]
     },
     "metadata": {},
     "output_type": "display_data"
    },
    {
     "data": {
      "text/html": [
       "<img src=\"data:image/png;base64,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\" width=\"640\">"
      ],
      "text/plain": [
       "<IPython.core.display.HTML object>"
      ]
     },
     "metadata": {},
     "output_type": "display_data"
    }
   ],
   "source": [
    "#https://stackoverflow.com/questions/40747474/sympy-and-plotting\n",
    "\n",
    "import matplotlib.pyplot as plt\n",
    "import numpy as np\n",
    "%matplotlib notebook\n",
    "from sympy import *\n",
    "\n",
    "x, y = symbols(\"x y\")\n",
    "hp = plot_implicit(Eq(x**2 + y**2, 4), (x, -3, 3), (y, -3, 3))\n",
    "fig = hp._backend.fig\n",
    "ax = hp._backend.ax\n",
    "xx = yy = np.linspace(-3,3)\n",
    "ax.plot(xx,yy) # y = x\n",
    "ax.plot([0],[0],'o') # Point (0,0)\n",
    "ax.set_aspect('equal','datalim')\n",
    "fig.canvas.draw()"
   ]
  },
  {
   "cell_type": "code",
   "execution_count": null,
   "metadata": {
    "collapsed": true
   },
   "outputs": [],
   "source": []
  }
 ],
 "metadata": {
  "kernelspec": {
   "display_name": "Python 2",
   "language": "python",
   "name": "python2"
  },
  "language_info": {
   "codemirror_mode": {
    "name": "ipython",
    "version": 2
   },
   "file_extension": ".py",
   "mimetype": "text/x-python",
   "name": "python",
   "nbconvert_exporter": "python",
   "pygments_lexer": "ipython2",
   "version": "2.7.14"
  }
 },
 "nbformat": 4,
 "nbformat_minor": 2
}
