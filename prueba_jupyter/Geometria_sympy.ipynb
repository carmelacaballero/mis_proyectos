{
 "cells": [
  {
   "cell_type": "markdown",
   "metadata": {},
   "source": [
    "## Geometría con Sympy y Python"
   ]
  },
  {
   "cell_type": "markdown",
   "metadata": {
    "collapsed": true
   },
   "source": [
    "* Averigua el punto simétrico de $A(5, -1)$ con respecto a $B(4, -2)$."
   ]
  },
  {
   "cell_type": "code",
   "execution_count": 2,
   "metadata": {},
   "outputs": [
    {
     "data": {
      "text/plain": [
       "Point2D(3, -3)"
      ]
     },
     "execution_count": 2,
     "metadata": {},
     "output_type": "execute_result"
    }
   ],
   "source": [
    "from sympy.geometry import Point, Line\n",
    "from sympy import pi, latex, symbols, solve\n",
    "x, y, z, t = symbols('x y z t')\n",
    "p1, p2 = Point(5,-1), Point(4,-2)\n",
    "p3=p1.rotate(pi,p2)\n",
    "p3"
   ]
  },
  {
   "cell_type": "code",
   "execution_count": 29,
   "metadata": {},
   "outputs": [
    {
     "data": {
      "text/plain": [
       "Point2D(4, -2)"
      ]
     },
     "execution_count": 29,
     "metadata": {},
     "output_type": "execute_result"
    }
   ],
   "source": [
    "p1.midpoint(p3)"
   ]
  },
  {
   "cell_type": "code",
   "execution_count": 31,
   "metadata": {},
   "outputs": [
    {
     "data": {
      "text/plain": [
       "Point2D(9/2, -3/2)"
      ]
     },
     "execution_count": 31,
     "metadata": {},
     "output_type": "execute_result"
    }
   ],
   "source": [
    "p1.midpoint(p2)"
   ]
  },
  {
   "cell_type": "markdown",
   "metadata": {
    "collapsed": true
   },
   "source": [
    "* Dados los puntos $A(2, -3)$, $B(-1, 4)$ y $C(x, 3)$, determina el valor de x para que $A$, $B$ y $C$ estén alineados."
   ]
  },
  {
   "cell_type": "code",
   "execution_count": 55,
   "metadata": {},
   "outputs": [
    {
     "data": {
      "text/plain": [
       "[-4/7]"
      ]
     },
     "execution_count": 55,
     "metadata": {},
     "output_type": "execute_result"
    }
   ],
   "source": [
    "p1, p2 = Point(2,-3), Point(-1,4)\n",
    "y3=3\n",
    "l1=Line(p1,p2)\n",
    "l1.direction.y\n",
    "solve((y3-p2.y)/l1.direction.y-(x-p2.x)/l1.direction.x)"
   ]
  },
  {
   "cell_type": "code",
   "execution_count": 60,
   "metadata": {},
   "outputs": [
    {
     "data": {
      "text/plain": [
       "True"
      ]
     },
     "execution_count": 60,
     "metadata": {},
     "output_type": "execute_result"
    }
   ],
   "source": [
    "p3= Point(-4/7,3)\n",
    "p1.is_collinear(p2,p3)"
   ]
  },
  {
   "cell_type": "markdown",
   "metadata": {},
   "source": [
    "* Halla las coordenadas del vértice $D$ del paralelogramo $ABCD$, sabiendo que $A(-1, -2)$, $B(3, 1)$ y $C(1, 3)$."
   ]
  },
  {
   "cell_type": "code",
   "execution_count": 74,
   "metadata": {},
   "outputs": [
    {
     "data": {
      "text/plain": [
       "Point2D(-3, 0)"
      ]
     },
     "execution_count": 74,
     "metadata": {},
     "output_type": "execute_result"
    }
   ],
   "source": [
    "A, B, C, D = Point(-1,-2), Point(3,1), Point(1,3), Point\n",
    "D=C-Line(A,B).direction\n",
    "D"
   ]
  },
  {
   "cell_type": "markdown",
   "metadata": {},
   "source": [
    "* Sea un paralelogramo $ABCD$. Si $A(2,3)$, $B(5,1)$ y $C(4,0)$, halla\n"
   ]
  },
  {
   "cell_type": "code",
   "execution_count": 80,
   "metadata": {},
   "outputs": [
    {
     "data": {
      "text/plain": [
       "2*x + 3*y - 13"
      ]
     },
     "execution_count": 80,
     "metadata": {},
     "output_type": "execute_result"
    }
   ],
   "source": [
    "A, B, C, D = Point(2,3), Point(5,1), Point(4,0), Point\n",
    "D=C-Line(A,B).direction\n",
    "D\n",
    "l1=Line(A,B)\n",
    "l1.equation()"
   ]
  },
  {
   "cell_type": "markdown",
   "metadata": {},
   "source": [
    "* Calcula la distancia que hay entre los puntos  \n",
    "$A(8,10)$ y $B(-2,14)$"
   ]
  },
  {
   "cell_type": "code",
   "execution_count": 78,
   "metadata": {},
   "outputs": [
    {
     "data": {
      "text/plain": [
       "2*sqrt(29)"
      ]
     },
     "execution_count": 78,
     "metadata": {},
     "output_type": "execute_result"
    }
   ],
   "source": [
    "A, B = Point(8,10), Point(-2,14)\n",
    "A.distance(B)"
   ]
  },
  {
   "cell_type": "markdown",
   "metadata": {},
   "source": [
    "* Halla las ecuaciones paramétricas de la recta paralela a $2x - y + 3 = 0 $ y que pasa por el punto $P(4, 3)$."
   ]
  },
  {
   "cell_type": "code",
   "execution_count": 25,
   "metadata": {},
   "outputs": [
    {
     "name": "stdout",
     "output_type": "stream",
     "text": [
      "3*x - 3*y/2 - 15/2\n",
      "Point2D(-3*t/2 + 4, -3*t + 3)\n"
     ]
    }
   ],
   "source": [
    "P = Point(4,3)\n",
    "l1 = Line(Point(0,3),Point(-3/2,0))\n",
    "l2 = Line (P,P+l1.direction)\n",
    "print(l2.equation())\n",
    "print(l2.arbitrary_point())\n",
    "\n"
   ]
  },
  {
   "cell_type": "markdown",
   "metadata": {
    "collapsed": true
   },
   "source": [
    "* Dadas las rectas:  $r \\equiv \\left\\{ \n",
    "    {\\begin{matrix}\n",
    "\t   {x = 2 - 4\\lambda }  \\\\ \n",
    "\t   {y =  - 2 + \\lambda}  \\\\ \n",
    "    \\end{matrix} } \\right.$ \ty \t\n",
    "    $s \\equiv \\left\\{ {\\begin{matrix}\n",
    "   {x = 3 + 8\\lambda }  \\\\ \n",
    "   {y =  - 1 - 2\\lambda }  \\\\ \n",
    "\\end{matrix} } \\right.$  averigua su posición relativa. Si se cortan, di cuál es el punto de corte"
   ]
  },
  {
   "cell_type": "code",
   "execution_count": 36,
   "metadata": {},
   "outputs": [
    {
     "name": "stdout",
     "output_type": "stream",
     "text": [
      "Point2D(-4, 1)\n",
      "Point2D(8, -2)\n",
      "True\n"
     ]
    },
    {
     "data": {
      "text/plain": [
       "[Line2D(Point2D(2, -2), Point2D(10, -4))]"
      ]
     },
     "execution_count": 36,
     "metadata": {},
     "output_type": "execute_result"
    }
   ],
   "source": [
    "P1, V1, P2, V2 = Point(2,-2), Point(-4,1), Point(3,-1), Point(8,-2)\n",
    "r = Line(P1, P1+V1)\n",
    "print(r.direction)\n",
    "s = Line(P2, P2+V2)\n",
    "print(s.direction)\n",
    "print(r.is_parallel(s))\n",
    "r.intersection(s)"
   ]
  },
  {
   "cell_type": "code",
   "execution_count": null,
   "metadata": {
    "collapsed": true
   },
   "outputs": [],
   "source": []
  }
 ],
 "metadata": {
  "kernelspec": {
   "display_name": "Python 3",
   "language": "python",
   "name": "python3"
  },
  "language_info": {
   "codemirror_mode": {
    "name": "ipython",
    "version": 3
   },
   "file_extension": ".py",
   "mimetype": "text/x-python",
   "name": "python",
   "nbconvert_exporter": "python",
   "pygments_lexer": "ipython3",
   "version": "3.6.3"
  }
 },
 "nbformat": 4,
 "nbformat_minor": 2
}
