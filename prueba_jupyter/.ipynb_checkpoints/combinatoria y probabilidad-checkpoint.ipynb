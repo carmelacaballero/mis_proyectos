{
 "cells": [
  {
   "cell_type": "code",
   "execution_count": 5,
   "metadata": {},
   "outputs": [
    {
     "data": {
      "text/plain": [
       "(60, 10, 120)"
      ]
     },
     "execution_count": 5,
     "metadata": {},
     "output_type": "execute_result"
    }
   ],
   "source": [
    "from sympy.utilities.iterables import variations, combinations, permutations\n",
    "len(list(variations(range(5),3))), len(list(combinations(range(5),2))), len(list(permutations(range(5))))\n",
    "\n"
   ]
  },
  {
   "cell_type": "markdown",
   "metadata": {},
   "source": [
    "### ¿Cuántos números de cuatro cifras distintas se pueden formar con las cifras 1, 2, 3, 4 y 5? ¿Y con 0, 1, 2, 3, 4 y 5?"
   ]
  },
  {
   "cell_type": "code",
   "execution_count": 52,
   "metadata": {},
   "outputs": [
    {
     "data": {
      "text/plain": [
       "(120, 300)"
      ]
     },
     "execution_count": 52,
     "metadata": {},
     "output_type": "execute_result"
    }
   ],
   "source": [
    "\n",
    "len(list(variations(list(range(1, 5 + 1)),4))), len(list(variations(list(range(5 + 1)),4))) - len(list(variations(list(range(1,max + 1)),3)))"
   ]
  },
  {
   "cell_type": "markdown",
   "metadata": {},
   "source": [
    "### ¿Cuántos números naturales se pueden formar con las cifras 1, 3, 5, 7 y 9 sin repetir ninguna de ellas?"
   ]
  },
  {
   "cell_type": "code",
   "execution_count": 12,
   "metadata": {},
   "outputs": [
    {
     "data": {
      "text/plain": [
       "([5, 20, 60, 120, 120], 325)"
      ]
     },
     "execution_count": 12,
     "metadata": {},
     "output_type": "execute_result"
    }
   ],
   "source": [
    "l = []\n",
    "for i in range(5): l.append((len(list(variations(list(range(1,9+1,2)),i + 1)))))\n",
    "l, sum(l)"
   ]
  },
  {
   "cell_type": "markdown",
   "metadata": {},
   "source": [
    "### ¿De cuántas formas pueden ocupar tres personas tres de las cuatro butacas numeradas de un cine?"
   ]
  },
  {
   "cell_type": "code",
   "execution_count": 14,
   "metadata": {},
   "outputs": [
    {
     "data": {
      "text/plain": [
       "24"
      ]
     },
     "execution_count": 14,
     "metadata": {},
     "output_type": "execute_result"
    }
   ],
   "source": [
    "len(list(variations(list(['a','b','c','d']),3)))"
   ]
  },
  {
   "cell_type": "markdown",
   "metadata": {},
   "source": [
    "### Con las cifras pares 2, 4, 6 y 8 se construyen todos los posibles números de tres cifras sin que se repita ninguna. ¿Cuántos son? ¿Cuántos empiezan por 2? ¿Cuántos terminan en 64? ¿Cuántos hay mayores que 500? ¿Cuánto suman todos ellos?"
   ]
  },
  {
   "cell_type": "code",
   "execution_count": 45,
   "metadata": {},
   "outputs": [
    {
     "data": {
      "text/plain": [
       "(24, 6, 2, 12, 13320)"
      ]
     },
     "execution_count": 45,
     "metadata": {},
     "output_type": "execute_result"
    }
   ],
   "source": [
    "len(list(variations(list(range(2,8+1,2)),3))),len(list(variations(list(range(4,8+1,2)),2))), \\\n",
    "len(list(variations([2,8],2))), int(len(list(variations(list(range(2,8+1,2)),3)))/2), \\\n",
    "len(list(variations(['4','6','8'],2)))*sum(list(range(2,8+1,2)))*(100+10+1)"
   ]
  },
  {
   "cell_type": "markdown",
   "metadata": {},
   "source": [
    "### ¿De cuántas maneras se pueden cubrir los puestos de Director, Vicedirector, Jefe de Estudios, Secretario y Vicesecretario en un Instituto de Bachillerato si hay 40 profesores?"
   ]
  },
  {
   "cell_type": "code",
   "execution_count": 2,
   "metadata": {},
   "outputs": [
    {
     "data": {
      "text/plain": [
       "78960960"
      ]
     },
     "execution_count": 2,
     "metadata": {},
     "output_type": "execute_result"
    }
   ],
   "source": [
    "len(list(variations(range(1,40+1),5)))"
   ]
  },
  {
   "cell_type": "markdown",
   "metadata": {},
   "source": [
    "### Una bandera tiene tres franjas horizontales. Si se pinta cada una de un color (pueden repetirse los colores en la misma bandera), ¿cuántas banderas distintas pueden formarse cuando se dispone de 5 colores?"
   ]
  },
  {
   "cell_type": "code",
   "execution_count": 7,
   "metadata": {},
   "outputs": [
    {
     "data": {
      "text/plain": [
       "125"
      ]
     },
     "execution_count": 7,
     "metadata": {},
     "output_type": "execute_result"
    }
   ],
   "source": [
    "len(list(variations(['a','b','c','d','e'],3,True)))"
   ]
  },
  {
   "cell_type": "markdown",
   "metadata": {},
   "source": [
    "### ¿Cuántos grupos de cinco alumnos podrán formarse con los treinta alumnos de una clase?"
   ]
  },
  {
   "cell_type": "code",
   "execution_count": 21,
   "metadata": {},
   "outputs": [
    {
     "data": {
      "text/plain": [
       "142506"
      ]
     },
     "execution_count": 21,
     "metadata": {},
     "output_type": "execute_result"
    }
   ],
   "source": [
    "len(list(combinations(list(range(1,30+1)),5)))"
   ]
  },
  {
   "cell_type": "markdown",
   "metadata": {},
   "source": [
    "### En una avanzadilla hay 18 soldados. ¿Cuántas guardias diferentes de tres soldados se pueden formar? ¿En cuántas entrará un soldado determinado? ¿Y dos soldados determinados?"
   ]
  },
  {
   "cell_type": "code",
   "execution_count": 24,
   "metadata": {},
   "outputs": [
    {
     "data": {
      "text/plain": [
       "(816, 136, 16)"
      ]
     },
     "execution_count": 24,
     "metadata": {},
     "output_type": "execute_result"
    }
   ],
   "source": [
    "len(list(combinations(list(range(1,18+1)),3))), len(list(combinations(list(range(1,17+1)),2))), len(list(combinations(list(range(1,16+1)),1)))"
   ]
  },
  {
   "cell_type": "markdown",
   "metadata": {},
   "source": [
    "### ¿De cuántas formas podrán distribuirse 8 premios iguales entre doce aspirantes? ¿Y si los premios fueran diferentes?"
   ]
  },
  {
   "cell_type": "code",
   "execution_count": 25,
   "metadata": {},
   "outputs": [
    {
     "data": {
      "text/plain": [
       "(495, 19958400)"
      ]
     },
     "execution_count": 25,
     "metadata": {},
     "output_type": "execute_result"
    }
   ],
   "source": [
    "len(list(combinations(list(range(1,12+1)),8))), len(list(variations(list(range(1,12+1)),8)))"
   ]
  },
  {
   "cell_type": "markdown",
   "metadata": {},
   "source": [
    "### En una empresa hay 6 plazas vacantes, de las cuales 4 corresponden a economistas y 2 a ingenieros. Se han presentado 10 economistas y 5 ingenieros. ¿De cuántas maneras se pueden ocupar las 6 plazas?"
   ]
  },
  {
   "cell_type": "code",
   "execution_count": 27,
   "metadata": {},
   "outputs": [
    {
     "data": {
      "text/plain": [
       "(210, 10, 2100)"
      ]
     },
     "execution_count": 27,
     "metadata": {},
     "output_type": "execute_result"
    }
   ],
   "source": [
    "len(list(combinations(list(range(1,10+1)),4))),len(list(combinations(list(range(1,5+1)),2))), \\\n",
    "len(list(combinations(list(range(1,10+1)),4)))*len(list(combinations(list(range(1,5+1)),2)))"
   ]
  },
  {
   "cell_type": "code",
   "execution_count": 24,
   "metadata": {
    "collapsed": true
   },
   "outputs": [],
   "source": [
    "from sympy.functions.combinatorial.numbers import nC, nP, nT\n",
    "from sympy import factorial\n"
   ]
  },
  {
   "cell_type": "code",
   "execution_count": 46,
   "metadata": {},
   "outputs": [
    {
     "data": {
      "text/plain": [
       "(28, 28)"
      ]
     },
     "execution_count": 46,
     "metadata": {},
     "output_type": "execute_result"
    }
   ],
   "source": [
    "nC(8,2), factorial(8)/(factorial(6)*factorial(2))"
   ]
  }
 ],
 "metadata": {
  "kernelspec": {
   "display_name": "Python 3",
   "language": "python",
   "name": "python3"
  },
  "language_info": {
   "codemirror_mode": {
    "name": "ipython",
    "version": 3
   },
   "file_extension": ".py",
   "mimetype": "text/x-python",
   "name": "python",
   "nbconvert_exporter": "python",
   "pygments_lexer": "ipython3",
   "version": "3.6.3"
  }
 },
 "nbformat": 4,
 "nbformat_minor": 2
}
