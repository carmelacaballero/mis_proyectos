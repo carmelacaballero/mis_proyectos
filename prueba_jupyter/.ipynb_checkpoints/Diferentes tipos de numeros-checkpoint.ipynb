{
 "cells": [
  {
   "cell_type": "markdown",
   "metadata": {},
   "source": [
    "# Diferentes tipos de Números\n",
    "\n",
    "**Atribuciones:** Las ideas de este trabajo están basadas en este [trabajo](https://github.com/doingmathwithpython)"
   ]
  },
  {
   "cell_type": "markdown",
   "metadata": {},
   "source": [
    "### Enteros y reales\n",
    "\n",
    "$$\\frac{2}{3}$$"
   ]
  },
  {
   "cell_type": "code",
   "execution_count": 20,
   "metadata": {},
   "outputs": [
    {
     "name": "stdout",
     "output_type": "stream",
     "text": [
      "Vamos a ver qué pasa\n",
      "con el número  3.8\n",
      "Si lo tomamos como entero:\n",
      "3\n",
      "Si lo tomamos como real:\n",
      "3.0\n"
     ]
    },
    {
     "data": {
      "text/plain": [
       "3.8"
      ]
     },
     "execution_count": 20,
     "metadata": {},
     "output_type": "execute_result"
    }
   ],
   "source": [
    "print(\"Vamos a ver qué pasa\")\n",
    "x=3.8\n",
    "print(\"con el número \", x)\n",
    "print(\"Si lo tomamos como entero:\")\n",
    "print(int(x))\n",
    "print(\"Si lo tomamos como real:\")\n",
    "print(float(3))\n",
    "x"
   ]
  }
 ],
 "metadata": {
  "kernelspec": {
   "display_name": "Python 3",
   "language": "python",
   "name": "python3"
  },
  "language_info": {
   "codemirror_mode": {
    "name": "ipython",
    "version": 3
   },
   "file_extension": ".py",
   "mimetype": "text/x-python",
   "name": "python",
   "nbconvert_exporter": "python",
   "pygments_lexer": "ipython3",
   "version": "3.6.3"
  }
 },
 "nbformat": 4,
 "nbformat_minor": 2
}
