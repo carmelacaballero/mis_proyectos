{
 "cells": [
  {
   "cell_type": "code",
   "execution_count": 1,
   "metadata": {},
   "outputs": [
    {
     "name": "stdout",
     "output_type": "stream",
     "text": [
      "Collecting ipyturtle\n",
      "\u001b[33m  Cache entry deserialization failed, entry ignored\u001b[0m\n",
      "\u001b[33m  Cache entry deserialization failed, entry ignored\u001b[0m\n",
      "  Downloading https://files.pythonhosted.org/packages/a0/eb/6634ea1e2d6df4415a7a6e279bb5e989d278d390656e1ff08bc0bb47e9d9/ipyturtle-0.2.0-py2.py3-none-any.whl (81kB)\n",
      "\u001b[K    100% |████████████████████████████████| 81kB 486kB/s ta 0:00:01\n",
      "\u001b[?25hRequirement already satisfied: ipywidgets>=5.1.5 in /home/hp/anaconda2/lib/python2.7/site-packages (from ipyturtle)\n",
      "Requirement already satisfied: ipykernel>=4.5.1 in /home/hp/anaconda2/lib/python2.7/site-packages (from ipywidgets>=5.1.5->ipyturtle)\n",
      "Requirement already satisfied: traitlets>=4.3.1 in /home/hp/anaconda2/lib/python2.7/site-packages (from ipywidgets>=5.1.5->ipyturtle)\n",
      "Requirement already satisfied: nbformat>=4.2.0 in /home/hp/anaconda2/lib/python2.7/site-packages (from ipywidgets>=5.1.5->ipyturtle)\n",
      "Requirement already satisfied: widgetsnbextension~=3.0.0 in /home/hp/anaconda2/lib/python2.7/site-packages (from ipywidgets>=5.1.5->ipyturtle)\n",
      "Requirement already satisfied: ipython<6.0.0,>=4.0.0 in /home/hp/anaconda2/lib/python2.7/site-packages (from ipywidgets>=5.1.5->ipyturtle)\n",
      "Requirement already satisfied: jupyter_client in /home/hp/anaconda2/lib/python2.7/site-packages (from ipykernel>=4.5.1->ipywidgets>=5.1.5->ipyturtle)\n",
      "Requirement already satisfied: tornado>=4.0 in /home/hp/anaconda2/lib/python2.7/site-packages (from ipykernel>=4.5.1->ipywidgets>=5.1.5->ipyturtle)\n",
      "Requirement already satisfied: ipython_genutils in /home/hp/anaconda2/lib/python2.7/site-packages (from traitlets>=4.3.1->ipywidgets>=5.1.5->ipyturtle)\n",
      "Requirement already satisfied: six in /home/hp/anaconda2/lib/python2.7/site-packages (from traitlets>=4.3.1->ipywidgets>=5.1.5->ipyturtle)\n",
      "Requirement already satisfied: decorator in /home/hp/anaconda2/lib/python2.7/site-packages (from traitlets>=4.3.1->ipywidgets>=5.1.5->ipyturtle)\n",
      "Requirement already satisfied: enum34 in /home/hp/anaconda2/lib/python2.7/site-packages (from traitlets>=4.3.1->ipywidgets>=5.1.5->ipyturtle)\n",
      "Requirement already satisfied: jsonschema!=2.5.0,>=2.4 in /home/hp/anaconda2/lib/python2.7/site-packages (from nbformat>=4.2.0->ipywidgets>=5.1.5->ipyturtle)\n",
      "Requirement already satisfied: jupyter_core in /home/hp/anaconda2/lib/python2.7/site-packages (from nbformat>=4.2.0->ipywidgets>=5.1.5->ipyturtle)\n",
      "Requirement already satisfied: notebook>=4.4.1 in /home/hp/anaconda2/lib/python2.7/site-packages (from widgetsnbextension~=3.0.0->ipywidgets>=5.1.5->ipyturtle)\n",
      "Requirement already satisfied: setuptools>=18.5 in /home/hp/anaconda2/lib/python2.7/site-packages (from ipython<6.0.0,>=4.0.0->ipywidgets>=5.1.5->ipyturtle)\n",
      "Requirement already satisfied: pickleshare in /home/hp/anaconda2/lib/python2.7/site-packages (from ipython<6.0.0,>=4.0.0->ipywidgets>=5.1.5->ipyturtle)\n",
      "Requirement already satisfied: simplegeneric>0.8 in /home/hp/anaconda2/lib/python2.7/site-packages (from ipython<6.0.0,>=4.0.0->ipywidgets>=5.1.5->ipyturtle)\n",
      "Requirement already satisfied: prompt_toolkit<2.0.0,>=1.0.4 in /home/hp/anaconda2/lib/python2.7/site-packages (from ipython<6.0.0,>=4.0.0->ipywidgets>=5.1.5->ipyturtle)\n",
      "Requirement already satisfied: pygments in /home/hp/anaconda2/lib/python2.7/site-packages (from ipython<6.0.0,>=4.0.0->ipywidgets>=5.1.5->ipyturtle)\n",
      "Requirement already satisfied: pexpect in /home/hp/anaconda2/lib/python2.7/site-packages (from ipython<6.0.0,>=4.0.0->ipywidgets>=5.1.5->ipyturtle)\n",
      "Requirement already satisfied: backports.shutil_get_terminal_size in /home/hp/anaconda2/lib/python2.7/site-packages (from ipython<6.0.0,>=4.0.0->ipywidgets>=5.1.5->ipyturtle)\n",
      "Requirement already satisfied: pathlib2 in /home/hp/anaconda2/lib/python2.7/site-packages (from ipython<6.0.0,>=4.0.0->ipywidgets>=5.1.5->ipyturtle)\n",
      "Requirement already satisfied: pyzmq>=13 in /home/hp/anaconda2/lib/python2.7/site-packages (from jupyter_client->ipykernel>=4.5.1->ipywidgets>=5.1.5->ipyturtle)\n",
      "Requirement already satisfied: python-dateutil>=2.1 in /home/hp/anaconda2/lib/python2.7/site-packages (from jupyter_client->ipykernel>=4.5.1->ipywidgets>=5.1.5->ipyturtle)\n",
      "Requirement already satisfied: singledispatch in /home/hp/anaconda2/lib/python2.7/site-packages (from tornado>=4.0->ipykernel>=4.5.1->ipywidgets>=5.1.5->ipyturtle)\n",
      "Requirement already satisfied: certifi in /home/hp/anaconda2/lib/python2.7/site-packages (from tornado>=4.0->ipykernel>=4.5.1->ipywidgets>=5.1.5->ipyturtle)\n",
      "Requirement already satisfied: backports_abc>=0.4 in /home/hp/anaconda2/lib/python2.7/site-packages (from tornado>=4.0->ipykernel>=4.5.1->ipywidgets>=5.1.5->ipyturtle)\n",
      "Requirement already satisfied: functools32 in /home/hp/anaconda2/lib/python2.7/site-packages (from jsonschema!=2.5.0,>=2.4->nbformat>=4.2.0->ipywidgets>=5.1.5->ipyturtle)\n",
      "Requirement already satisfied: wcwidth in /home/hp/anaconda2/lib/python2.7/site-packages (from prompt_toolkit<2.0.0,>=1.0.4->ipython<6.0.0,>=4.0.0->ipywidgets>=5.1.5->ipyturtle)\n",
      "Requirement already satisfied: scandir in /home/hp/anaconda2/lib/python2.7/site-packages (from pathlib2->ipython<6.0.0,>=4.0.0->ipywidgets>=5.1.5->ipyturtle)\n",
      "Installing collected packages: ipyturtle\n",
      "Successfully installed ipyturtle-0.2.0\n",
      "\u001b[33mYou are using pip version 9.0.1, however version 10.0.1 is available.\n",
      "You should consider upgrading via the 'pip install --upgrade pip' command.\u001b[0m\n"
     ]
    }
   ],
   "source": [
    "!pip install ipyturtle"
   ]
  },
  {
   "cell_type": "code",
   "execution_count": 2,
   "metadata": {},
   "outputs": [
    {
     "name": "stdout",
     "output_type": "stream",
     "text": [
      "Enabling notebook extension ipython-turtle-widget/extension...\r\n",
      "      - Validating: \u001b[32mOK\u001b[0m\r\n"
     ]
    }
   ],
   "source": [
    "!jupyter nbextension enable --py --sys-prefix ipyturtle"
   ]
  },
  {
   "cell_type": "code",
   "execution_count": 6,
   "metadata": {},
   "outputs": [
    {
     "data": {
      "application/vnd.jupyter.widget-view+json": {
       "model_id": "c176f6dd4f0b4464bfa616477e788016",
       "version_major": 2,
       "version_minor": 0
      },
      "text/plain": [
       "A Jupyter Widget"
      ]
     },
     "metadata": {},
     "output_type": "display_data"
    }
   ],
   "source": [
    "from ipyturtle import Turtle\n",
    "t = Turtle()\n",
    "t"
   ]
  },
  {
   "cell_type": "code",
   "execution_count": 6,
   "metadata": {},
   "outputs": [],
   "source": [
    ">>> def donothing(x):\n",
    "...     return x\n"
   ]
  },
  {
   "cell_type": "code",
   "execution_count": 9,
   "metadata": {},
   "outputs": [
    {
     "name": "stdout",
     "output_type": "stream",
     "text": [
      "\n",
      "Automagic is ON, % prefix IS NOT needed for line magics.\n"
     ]
    }
   ],
   "source": [
    "%automagic"
   ]
  }
 ],
 "metadata": {
  "kernelspec": {
   "display_name": "Python 3",
   "language": "python",
   "name": "python3"
  },
  "language_info": {
   "codemirror_mode": {
    "name": "ipython",
    "version": 3
   },
   "file_extension": ".py",
   "mimetype": "text/x-python",
   "name": "python",
   "nbconvert_exporter": "python",
   "pygments_lexer": "ipython3",
   "version": "3.6.5"
  }
 },
 "nbformat": 4,
 "nbformat_minor": 2
}
