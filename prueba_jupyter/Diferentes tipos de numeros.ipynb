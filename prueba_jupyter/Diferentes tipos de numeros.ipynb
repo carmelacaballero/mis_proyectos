{
 "cells": [
  {
   "cell_type": "markdown",
   "metadata": {},
   "source": [
    "# Diferentes tipos de Números\n",
    "\n",
    "**Atribuciones:** Las ideas de este trabajo están basadas en este [trabajo](https://github.com/doingmathwithpython)"
   ]
  },
  {
   "cell_type": "markdown",
   "metadata": {},
   "source": [
    "### Enteros $\\mathbb{Z}$ y reales $\\mathbb{R}$\n",
    "\n"
   ]
  },
  {
   "cell_type": "code",
   "execution_count": 48,
   "metadata": {},
   "outputs": [
    {
     "name": "stdout",
     "output_type": "stream",
     "text": [
      "Vamos a ver qué pasa\n",
      "con el número  3.8\n",
      "Si lo tomamos como entero:\n",
      "3\n",
      "Si lo tomamos como real:\n",
      "3.0\n"
     ]
    },
    {
     "data": {
      "text/plain": [
       "3.8"
      ]
     },
     "execution_count": 48,
     "metadata": {},
     "output_type": "execute_result"
    }
   ],
   "source": [
    "print(\"Vamos a ver qué pasa\")\n",
    "x=3.8\n",
    "print(\"con el número \", x)\n",
    "print(\"Si lo tomamos como entero:\")\n",
    "print(int(x))\n",
    "print(\"Si lo tomamos como real:\")\n",
    "print(float(3))\n",
    "x"
   ]
  },
  {
   "cell_type": "code",
   "execution_count": 49,
   "metadata": {},
   "outputs": [
    {
     "name": "stdout",
     "output_type": "stream",
     "text": [
      "Enter a complex number: 5+3j\n"
     ]
    },
    {
     "data": {
      "text/plain": [
       "(5+3j)"
      ]
     },
     "execution_count": 49,
     "metadata": {},
     "output_type": "execute_result"
    }
   ],
   "source": [
    "# P5: fractions demo\n",
    "from fractions import Fraction\n",
    "f = Fraction(3, 4)\n",
    "f\n",
    "z = complex(input('Enter a complex number: ')) #2+3j is valid, 2 + 3j is invalid\n",
    "z"
   ]
  },
  {
   "cell_type": "code",
   "execution_count": 50,
   "metadata": {},
   "outputs": [
    {
     "name": "stdout",
     "output_type": "stream",
     "text": [
      "Enter a complex number: 1+j\n"
     ]
    },
    {
     "data": {
      "text/plain": [
       "(1+1j)"
      ]
     },
     "execution_count": 50,
     "metadata": {},
     "output_type": "execute_result"
    }
   ],
   "source": [
    "# P5: fractions demo\n",
    ">>> from fractions import Fraction\n",
    ">>> f = Fraction(3, 4)\n",
    "f\n",
    "\n",
    "\n",
    "#P12: Complex number input\n",
    ">>> z = complex(input('Enter a complex number: ')) #2+3j is valid, 2 + 3j is invalid\n",
    "z\n",
    "\n"
   ]
  },
  {
   "cell_type": "markdown",
   "metadata": {},
   "source": [
    "## Factorización de un número"
   ]
  },
  {
   "cell_type": "code",
   "execution_count": 57,
   "metadata": {},
   "outputs": [
    {
     "name": "stdout",
     "output_type": "stream",
     "text": [
      "{2: 2, 3: 1}\n"
     ]
    }
   ],
   "source": [
    "from sympy import *\n",
    "pprint(factorint(12))"
   ]
  },
  {
   "cell_type": "markdown",
   "metadata": {},
   "source": [
    "## Listado de números primos"
   ]
  },
  {
   "cell_type": "code",
   "execution_count": 59,
   "metadata": {},
   "outputs": [
    {
     "name": "stdout",
     "output_type": "stream",
     "text": [
      "[7, 11, 13, 17]\n",
      "array('l', [2, 3, 5, 7, 11, 13, 17])\n"
     ]
    }
   ],
   "source": [
    "from sympy import sieve\n",
    ">>> print([i for i in sieve.primerange(7, 18)])\n",
    "print(sieve._list)"
   ]
  }
 ],
 "metadata": {
  "kernelspec": {
   "display_name": "Python 3",
   "language": "python",
   "name": "python3"
  },
  "language_info": {
   "codemirror_mode": {
    "name": "ipython",
    "version": 3
   },
   "file_extension": ".py",
   "mimetype": "text/x-python",
   "name": "python",
   "nbconvert_exporter": "python",
   "pygments_lexer": "ipython3",
   "version": "3.6.3"
  }
 },
 "nbformat": 4,
 "nbformat_minor": 2
}
