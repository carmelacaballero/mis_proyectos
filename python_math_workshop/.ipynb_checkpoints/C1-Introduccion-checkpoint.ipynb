{
 "cells": [
  {
   "cell_type": "markdown",
   "metadata": {},
   "source": [
    "# Taller de matemáticas con Python\n",
    "\n",
    "![Resultado de imagen de python math svg](http://www.iconninja.com/files/731/660/875/python-logo-icon.svg)\n",
    "\n",
    "## Introducción\n",
    "\n",
    "La presente documentación, pretende servir de recurso para poder realizar un taller de matemáticas usando el lenguaje de programación [Python](https://www.python.org/)\n",
    "\n",
    "Las principales motivaciones que me han llevado a  embarcarme en este proyecto son:\n",
    "Como docente de matemáticas en la etapa de secundaria intento buscar actividades complementarias a lo que son los propios contenidos.\n",
    "\n",
    "- La importancia que el pensamiento computacional puede tener en la formación del alumnado, sobre todo en aquellas y aquellos que estén pensando en un futuro traabajo relacionado con la tecnología\n",
    "\n",
    "- Intentar usar la tecnología de manera creativa, fomentando un uso de la misma menos consumidora y más productora en la que el alumnado es la creadora de sus propios programas\n",
    "\n",
    "- Acercar los valores del software libre y su filosofía de trabajo, perseverando en la importancia que el conocimiento colectivo ha adquirido en los últimos años permitiendo democratizar el acceso al conocimiento, mejorarlo y evolucionarlo, al mismo tiempo que constituye una constante fuente de aprendizaje  para quienes lo utilizan y/o participan en su desarrollo\n",
    "\n",
    "  ​\n",
    "\n",
    "## Atribuciones\n",
    "\n",
    "La mayoría de la documentación se ha generado siguiendo el estupendo libro [Doing math with python](doingmathwithpython) de [Amit Saha](http://echorand.me/). ¡Gracias por ser fuente de inspiración!\n",
    "\n",
    "\n",
    "\n",
    "## Software necesario\n",
    "\n",
    "De cara a llevarlo al aula, si se dispone de una buena conexión a internet, será necesario un IDE (entorno de desarrollo) que permita. Existen varios online, que no necesitan instalación. Yo he probado [repl.it](https://repl.it/), que está bastante bien ya que permite acceder con cuentas de terceros, como google, github o facebook.\n",
    "\n",
    "Si no se dispone de buena conexión a Internet, existen diferentes alternativas, pero un servidor de [jupyter](http://jupyter.org/) puede ser bastante cómodo, ya que el alumnado se conectaría a través del navegador al servidor evitando instalaciones en los equipos del alumnado.\n",
    "\n",
    "\n",
    "\n",
    "## Índice de contenidos\n",
    "\n",
    "\n",
    "\n",
    "## Agradecimientos\n",
    "\n",
    "\n",
    "Aparte de, obviamente, a [Amit Saha](http://echorand.me/), mi agradecimiento a todos aquellos que forman parte de la comunidad libre porque su excelente trabajo.\n",
    "\n",
    "\n"
   ]
  }
 ],
 "metadata": {
  "kernelspec": {
   "display_name": "Python 2",
   "language": "python",
   "name": "python2"
  },
  "language_info": {
   "codemirror_mode": {
    "name": "ipython",
    "version": 2
   },
   "file_extension": ".py",
   "mimetype": "text/x-python",
   "name": "python",
   "nbconvert_exporter": "python",
   "pygments_lexer": "ipython2",
   "version": "2.7.14"
  }
 },
 "nbformat": 4,
 "nbformat_minor": 2
}
