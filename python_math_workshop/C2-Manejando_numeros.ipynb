{
 "cells": [
  {
   "cell_type": "markdown",
   "metadata": {
    "collapsed": true
   },
   "source": [
    "## Mi calculadora en el intérprete de python\n",
    "\n",
    "Podemos realizar operaciones sencillas en el terminal como si tuvieramos una calculadora:\n",
    "\n",
    "Solo tienes que tener en cuenta que aparte de la suma y resta con los símbolos + y - respectivamente:\n",
    "\n",
    "1. Para multiplicar se usa el símbolo ***\n",
    "2. Para dividir el símbolo /\n",
    "3. Para elevar a un número, el símbolo ****\n",
    "\n",
    "Por ejemplo vamos a realizar la operación \n",
    "\n",
    "$$2\\cdot5+3$$"
   ]
  },
  {
   "cell_type": "code",
   "execution_count": 5,
   "metadata": {},
   "outputs": [
    {
     "data": {
      "text/plain": [
       "13"
      ]
     },
     "execution_count": 5,
     "metadata": {},
     "output_type": "execute_result"
    }
   ],
   "source": [
    "2*5+3"
   ]
  },
  {
   "cell_type": "markdown",
   "metadata": {},
   "source": [
    "Veamos algo más compleja:\n",
    "\n",
    "\n",
    "$$2^2+\\left(5+3\\right)^2$$\n",
    "\n"
   ]
  },
  {
   "cell_type": "code",
   "execution_count": 18,
   "metadata": {},
   "outputs": [
    {
     "data": {
      "text/plain": [
       "68"
      ]
     },
     "execution_count": 18,
     "metadata": {},
     "output_type": "execute_result"
    }
   ],
   "source": [
    "2**2+(5+3)**2"
   ]
  },
  {
   "cell_type": "markdown",
   "metadata": {},
   "source": [
    "La división entera (o cociente de la división) la podemos hacer con el operador *//*"
   ]
  },
  {
   "cell_type": "code",
   "execution_count": 3,
   "metadata": {},
   "outputs": [
    {
     "data": {
      "text/plain": [
       "3"
      ]
     },
     "execution_count": 3,
     "metadata": {},
     "output_type": "execute_result"
    }
   ],
   "source": [
    "7//2"
   ]
  },
  {
   "cell_type": "markdown",
   "metadata": {},
   "source": [
    "El resto de la división lo podemos obtener con el operador *%*"
   ]
  },
  {
   "cell_type": "code",
   "execution_count": 4,
   "metadata": {},
   "outputs": [
    {
     "data": {
      "text/plain": [
       "1"
      ]
     },
     "execution_count": 4,
     "metadata": {},
     "output_type": "execute_result"
    }
   ],
   "source": [
    "7%2"
   ]
  },
  {
   "cell_type": "markdown",
   "metadata": {},
   "source": [
    "Resumiendo:\n",
    "\n",
    "### Comandos para operaciones numéricas básicas\n",
    "\n",
    "| Operación               | Operador Python | Ejemplo                        | Código Python |\n",
    "| ----------------------- | --------------- | ------------------------------ | ------------- |\n",
    "| Suma                    | +               | $2+3$                          | 2+3           |\n",
    "| Resta                   | -               | $3-2$                          | 3-2           |\n",
    "| Multiplicación          | *               | $3\\cdot2$                      | 3*2           |\n",
    "| División                | /               | $4:2$                          | 4/2           |\n",
    "| Potencia                | **              | $2^3$                          | 2**3          |\n",
    "| Cociente de la división | //              | División entera de 7 entre 5   | 7//5          |\n",
    "| Resto de la división    | %               | Resto de la división 7 entre 5 | 7%5           |"
   ]
  },
  {
   "cell_type": "markdown",
   "metadata": {},
   "source": [
    "### Ejercicios\n",
    "\n",
    "Realiza las siguientes operaciones:\n",
    "\n",
    "- $5+6\\cdot\\left(2-4\\right)$\n",
    "\n",
    "- Calcula el cociente y el resto de la división 2570 entre 27\n",
    "\n",
    "- $\\left[12\\cdot\\left(-3\\right)^3\\right]^4$\n",
    "\n",
    "- $\\sqrt{169}$"
   ]
  },
  {
   "cell_type": "code",
   "execution_count": 26,
   "metadata": {
    "scrolled": true
   },
   "outputs": [
    {
     "name": "stdout",
     "output_type": "stream",
     "text": [
      "a=100\n",
      "a=100\n",
      "a=a+100;\n",
      "a+1;\n",
      "a=100\n",
      "a=a+100;\n",
      "a+1;\n",
      "a=100\n",
      "a=a+100;\n",
      "a+1;\n",
      "a;\n",
      "a=100\n",
      "a=a+100;\n",
      "a+1;\n",
      "a;\n",
      "a=100\n",
      "a=a+100;\n",
      "a+1;\n",
      "a;\n",
      "a=100\n",
      "a=a+100;\n",
      "a+1;\n",
      "a\n",
      "a=100\n",
      "a=a+100;\n",
      "a+1;\n",
      "a\n",
      "a=100\n",
      "a=a+100;\n",
      "a+1;\n",
      "a\n",
      "a=100\n",
      "a=a+100;\n",
      "a+1;\n",
      "a\n",
      "a=100\n",
      "a=a+100;\n",
      "a+1;\n",
      "a\n",
      "a=100\n",
      "a=a+100;\n",
      "a+1;\n",
      "a\n",
      "a=100\n",
      "a=a+100;\n",
      "a+1;\n",
      "a\n",
      "a=100\n",
      "a=a+100;\n",
      "a+1;\n",
      "a\n",
      "a=100\n",
      "a=a+100;\n",
      "a+1;\n",
      "a\n",
      "a=100\n",
      "a=a+100;\n",
      "a+1;\n",
      "a\n",
      "a=100\n",
      "a=a+100;\n",
      "a+1;\n",
      "a\n",
      "a=100\n",
      "a=a+100;\n",
      "a+1;\n",
      "a\n",
      "a=100\n",
      "a=a+100;\n",
      "a+1;\n",
      "a\n",
      "a=100\n",
      "a=a+100;\n",
      "a+1;\n",
      "_\n",
      "a=100\n",
      "a=a+100;\n",
      "a+1;\n",
      "_\n",
      "a=100\n",
      "a=a+100;\n",
      "a+1;\n",
      "_\n",
      "a=100\n",
      "a=a+100;\n",
      "a+1;\n",
      "_\n",
      "a=100\n",
      "a=a+100;\n",
      "a+1;\n",
      "_\n",
      "a=100\n",
      "a=a+100;\n",
      "a+1;\n",
      "_4\n",
      "a=100\n",
      "a=a+100;\n",
      "a+1;\n",
      "%history\n"
     ]
    }
   ],
   "source": [
    "a=100\n",
    "a=a+100;\n",
    "a+1;\n",
    "%history\n"
   ]
  },
  {
   "cell_type": "code",
   "execution_count": 34,
   "metadata": {},
   "outputs": [
    {
     "name": "stdout",
     "output_type": "stream",
     "text": [
      "Daniel, dime un número:8\n",
      "Daniel, dime otro número:2\n",
      "La división es:\n"
     ]
    },
    {
     "data": {
      "text/plain": [
       "4.0"
      ]
     },
     "execution_count": 34,
     "metadata": {},
     "output_type": "execute_result"
    }
   ],
   "source": [
    "a=float(input('Daniel, dime un número:'))\n",
    "b=float(input('Daniel, dime otro número:'))\n",
    "print('La división es:')\n",
    "a/b"
   ]
  }
 ],
 "metadata": {
  "kernelspec": {
   "display_name": "Python 3",
   "language": "python",
   "name": "python3"
  },
  "language_info": {
   "codemirror_mode": {
    "name": "ipython",
    "version": 3
   },
   "file_extension": ".py",
   "mimetype": "text/x-python",
   "name": "python",
   "nbconvert_exporter": "python",
   "pygments_lexer": "ipython3",
   "version": "3.6.3"
  }
 },
 "nbformat": 4,
 "nbformat_minor": 2
}
